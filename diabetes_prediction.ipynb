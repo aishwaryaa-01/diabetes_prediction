{
 "cells": [
  {
   "cell_type": "markdown",
   "id": "b1a34b1a",
   "metadata": {},
   "source": [
    "# Diabetes Prediction"
   ]
  },
  {
   "cell_type": "code",
   "execution_count": 1,
   "id": "eecec2f0",
   "metadata": {},
   "outputs": [],
   "source": [
    "import pandas as pd\n",
    "import numpy as np"
   ]
  },
  {
   "cell_type": "code",
   "execution_count": 2,
   "id": "82a04000",
   "metadata": {},
   "outputs": [],
   "source": [
    "url= \"diabetic_data.csv\""
   ]
  },
  {
   "cell_type": "code",
   "execution_count": 3,
   "id": "faa70618",
   "metadata": {},
   "outputs": [],
   "source": [
    "df=pd.read_csv(url)"
   ]
  },
  {
   "cell_type": "code",
   "execution_count": 4,
   "id": "45e78fef",
   "metadata": {},
   "outputs": [
    {
     "data": {
      "text/html": [
       "<div>\n",
       "<style scoped>\n",
       "    .dataframe tbody tr th:only-of-type {\n",
       "        vertical-align: middle;\n",
       "    }\n",
       "\n",
       "    .dataframe tbody tr th {\n",
       "        vertical-align: top;\n",
       "    }\n",
       "\n",
       "    .dataframe thead th {\n",
       "        text-align: right;\n",
       "    }\n",
       "</style>\n",
       "<table border=\"1\" class=\"dataframe\">\n",
       "  <thead>\n",
       "    <tr style=\"text-align: right;\">\n",
       "      <th></th>\n",
       "      <th>encounter_id</th>\n",
       "      <th>patient_nbr</th>\n",
       "      <th>race</th>\n",
       "      <th>gender</th>\n",
       "      <th>age</th>\n",
       "      <th>weight</th>\n",
       "      <th>admission_type_id</th>\n",
       "      <th>discharge_disposition_id</th>\n",
       "      <th>admission_source_id</th>\n",
       "      <th>time_in_hospital</th>\n",
       "      <th>...</th>\n",
       "      <th>number_inpatient</th>\n",
       "      <th>diag_1</th>\n",
       "      <th>diag_2</th>\n",
       "      <th>diag_3</th>\n",
       "      <th>number_diagnoses</th>\n",
       "      <th>max_glu_serum</th>\n",
       "      <th>A1Cresult</th>\n",
       "      <th>insulin</th>\n",
       "      <th>change</th>\n",
       "      <th>diabetesMed</th>\n",
       "    </tr>\n",
       "  </thead>\n",
       "  <tbody>\n",
       "    <tr>\n",
       "      <th>0</th>\n",
       "      <td>2278392</td>\n",
       "      <td>8222157</td>\n",
       "      <td>Caucasian</td>\n",
       "      <td>Female</td>\n",
       "      <td>[0-10)</td>\n",
       "      <td>?</td>\n",
       "      <td>6</td>\n",
       "      <td>25</td>\n",
       "      <td>1</td>\n",
       "      <td>1</td>\n",
       "      <td>...</td>\n",
       "      <td>0</td>\n",
       "      <td>250.83</td>\n",
       "      <td>?</td>\n",
       "      <td>?</td>\n",
       "      <td>1</td>\n",
       "      <td>None</td>\n",
       "      <td>None</td>\n",
       "      <td>No</td>\n",
       "      <td>No</td>\n",
       "      <td>No</td>\n",
       "    </tr>\n",
       "    <tr>\n",
       "      <th>1</th>\n",
       "      <td>149190</td>\n",
       "      <td>55629189</td>\n",
       "      <td>Caucasian</td>\n",
       "      <td>Female</td>\n",
       "      <td>[10-20)</td>\n",
       "      <td>?</td>\n",
       "      <td>1</td>\n",
       "      <td>1</td>\n",
       "      <td>7</td>\n",
       "      <td>3</td>\n",
       "      <td>...</td>\n",
       "      <td>0</td>\n",
       "      <td>276</td>\n",
       "      <td>250.01</td>\n",
       "      <td>255</td>\n",
       "      <td>9</td>\n",
       "      <td>None</td>\n",
       "      <td>None</td>\n",
       "      <td>Up</td>\n",
       "      <td>Ch</td>\n",
       "      <td>Yes</td>\n",
       "    </tr>\n",
       "    <tr>\n",
       "      <th>2</th>\n",
       "      <td>64410</td>\n",
       "      <td>86047875</td>\n",
       "      <td>AfricanAmerican</td>\n",
       "      <td>Female</td>\n",
       "      <td>[20-30)</td>\n",
       "      <td>?</td>\n",
       "      <td>1</td>\n",
       "      <td>1</td>\n",
       "      <td>7</td>\n",
       "      <td>2</td>\n",
       "      <td>...</td>\n",
       "      <td>1</td>\n",
       "      <td>648</td>\n",
       "      <td>250</td>\n",
       "      <td>V27</td>\n",
       "      <td>6</td>\n",
       "      <td>None</td>\n",
       "      <td>None</td>\n",
       "      <td>No</td>\n",
       "      <td>No</td>\n",
       "      <td>Yes</td>\n",
       "    </tr>\n",
       "    <tr>\n",
       "      <th>3</th>\n",
       "      <td>500364</td>\n",
       "      <td>82442376</td>\n",
       "      <td>Caucasian</td>\n",
       "      <td>Male</td>\n",
       "      <td>[30-40)</td>\n",
       "      <td>?</td>\n",
       "      <td>1</td>\n",
       "      <td>1</td>\n",
       "      <td>7</td>\n",
       "      <td>2</td>\n",
       "      <td>...</td>\n",
       "      <td>0</td>\n",
       "      <td>8</td>\n",
       "      <td>250.43</td>\n",
       "      <td>403</td>\n",
       "      <td>7</td>\n",
       "      <td>None</td>\n",
       "      <td>None</td>\n",
       "      <td>Up</td>\n",
       "      <td>Ch</td>\n",
       "      <td>Yes</td>\n",
       "    </tr>\n",
       "    <tr>\n",
       "      <th>4</th>\n",
       "      <td>16680</td>\n",
       "      <td>42519267</td>\n",
       "      <td>Caucasian</td>\n",
       "      <td>Male</td>\n",
       "      <td>[40-50)</td>\n",
       "      <td>?</td>\n",
       "      <td>1</td>\n",
       "      <td>1</td>\n",
       "      <td>7</td>\n",
       "      <td>1</td>\n",
       "      <td>...</td>\n",
       "      <td>0</td>\n",
       "      <td>197</td>\n",
       "      <td>157</td>\n",
       "      <td>250</td>\n",
       "      <td>5</td>\n",
       "      <td>None</td>\n",
       "      <td>None</td>\n",
       "      <td>Steady</td>\n",
       "      <td>Ch</td>\n",
       "      <td>Yes</td>\n",
       "    </tr>\n",
       "  </tbody>\n",
       "</table>\n",
       "<p>5 rows × 27 columns</p>\n",
       "</div>"
      ],
      "text/plain": [
       "   encounter_id  patient_nbr             race  gender      age weight  \\\n",
       "0       2278392      8222157        Caucasian  Female   [0-10)      ?   \n",
       "1        149190     55629189        Caucasian  Female  [10-20)      ?   \n",
       "2         64410     86047875  AfricanAmerican  Female  [20-30)      ?   \n",
       "3        500364     82442376        Caucasian    Male  [30-40)      ?   \n",
       "4         16680     42519267        Caucasian    Male  [40-50)      ?   \n",
       "\n",
       "   admission_type_id  discharge_disposition_id  admission_source_id  \\\n",
       "0                  6                        25                    1   \n",
       "1                  1                         1                    7   \n",
       "2                  1                         1                    7   \n",
       "3                  1                         1                    7   \n",
       "4                  1                         1                    7   \n",
       "\n",
       "   time_in_hospital  ... number_inpatient  diag_1  diag_2  diag_3  \\\n",
       "0                 1  ...                0  250.83       ?       ?   \n",
       "1                 3  ...                0     276  250.01     255   \n",
       "2                 2  ...                1     648     250     V27   \n",
       "3                 2  ...                0       8  250.43     403   \n",
       "4                 1  ...                0     197     157     250   \n",
       "\n",
       "   number_diagnoses  max_glu_serum  A1Cresult  insulin change diabetesMed  \n",
       "0                 1           None       None       No     No          No  \n",
       "1                 9           None       None       Up     Ch         Yes  \n",
       "2                 6           None       None       No     No         Yes  \n",
       "3                 7           None       None       Up     Ch         Yes  \n",
       "4                 5           None       None   Steady     Ch         Yes  \n",
       "\n",
       "[5 rows x 27 columns]"
      ]
     },
     "execution_count": 4,
     "metadata": {},
     "output_type": "execute_result"
    }
   ],
   "source": [
    "df.head()"
   ]
  },
  {
   "cell_type": "code",
   "execution_count": 5,
   "id": "2c75958c",
   "metadata": {},
   "outputs": [
    {
     "name": "stdout",
     "output_type": "stream",
     "text": [
      "<class 'pandas.core.frame.DataFrame'>\n",
      "RangeIndex: 101766 entries, 0 to 101765\n",
      "Data columns (total 27 columns):\n",
      " #   Column                    Non-Null Count   Dtype \n",
      "---  ------                    --------------   ----- \n",
      " 0   encounter_id              101766 non-null  int64 \n",
      " 1   patient_nbr               101766 non-null  int64 \n",
      " 2   race                      101766 non-null  object\n",
      " 3   gender                    101766 non-null  object\n",
      " 4   age                       101766 non-null  object\n",
      " 5   weight                    101766 non-null  object\n",
      " 6   admission_type_id         101766 non-null  int64 \n",
      " 7   discharge_disposition_id  101766 non-null  int64 \n",
      " 8   admission_source_id       101766 non-null  int64 \n",
      " 9   time_in_hospital          101766 non-null  int64 \n",
      " 10  payer_code                101766 non-null  object\n",
      " 11  medical_specialty         101766 non-null  object\n",
      " 12  num_lab_procedures        101766 non-null  int64 \n",
      " 13  num_procedures            101766 non-null  int64 \n",
      " 14  num_medications           101766 non-null  int64 \n",
      " 15  number_outpatient         101766 non-null  int64 \n",
      " 16  number_emergency          101766 non-null  int64 \n",
      " 17  number_inpatient          101766 non-null  int64 \n",
      " 18  diag_1                    101766 non-null  object\n",
      " 19  diag_2                    101766 non-null  object\n",
      " 20  diag_3                    101766 non-null  object\n",
      " 21  number_diagnoses          101766 non-null  int64 \n",
      " 22  max_glu_serum             101766 non-null  object\n",
      " 23  A1Cresult                 101766 non-null  object\n",
      " 24  insulin                   101766 non-null  object\n",
      " 25  change                    101766 non-null  object\n",
      " 26  diabetesMed               101766 non-null  object\n",
      "dtypes: int64(13), object(14)\n",
      "memory usage: 21.0+ MB\n"
     ]
    }
   ],
   "source": [
    "df.info()"
   ]
  },
  {
   "cell_type": "code",
   "execution_count": 6,
   "id": "808d6d96",
   "metadata": {},
   "outputs": [
    {
     "data": {
      "text/html": [
       "<div>\n",
       "<style scoped>\n",
       "    .dataframe tbody tr th:only-of-type {\n",
       "        vertical-align: middle;\n",
       "    }\n",
       "\n",
       "    .dataframe tbody tr th {\n",
       "        vertical-align: top;\n",
       "    }\n",
       "\n",
       "    .dataframe thead th {\n",
       "        text-align: right;\n",
       "    }\n",
       "</style>\n",
       "<table border=\"1\" class=\"dataframe\">\n",
       "  <thead>\n",
       "    <tr style=\"text-align: right;\">\n",
       "      <th></th>\n",
       "      <th>encounter_id</th>\n",
       "      <th>patient_nbr</th>\n",
       "      <th>admission_type_id</th>\n",
       "      <th>discharge_disposition_id</th>\n",
       "      <th>admission_source_id</th>\n",
       "      <th>time_in_hospital</th>\n",
       "      <th>num_lab_procedures</th>\n",
       "      <th>num_procedures</th>\n",
       "      <th>num_medications</th>\n",
       "      <th>number_outpatient</th>\n",
       "      <th>number_emergency</th>\n",
       "      <th>number_inpatient</th>\n",
       "      <th>number_diagnoses</th>\n",
       "    </tr>\n",
       "  </thead>\n",
       "  <tbody>\n",
       "    <tr>\n",
       "      <th>count</th>\n",
       "      <td>1.017660e+05</td>\n",
       "      <td>1.017660e+05</td>\n",
       "      <td>101766.000000</td>\n",
       "      <td>101766.000000</td>\n",
       "      <td>101766.000000</td>\n",
       "      <td>101766.000000</td>\n",
       "      <td>101766.000000</td>\n",
       "      <td>101766.000000</td>\n",
       "      <td>101766.000000</td>\n",
       "      <td>101766.000000</td>\n",
       "      <td>101766.000000</td>\n",
       "      <td>101766.000000</td>\n",
       "      <td>101766.000000</td>\n",
       "    </tr>\n",
       "    <tr>\n",
       "      <th>mean</th>\n",
       "      <td>1.652016e+08</td>\n",
       "      <td>5.433040e+07</td>\n",
       "      <td>2.024006</td>\n",
       "      <td>3.715642</td>\n",
       "      <td>5.754437</td>\n",
       "      <td>4.395987</td>\n",
       "      <td>43.095641</td>\n",
       "      <td>1.339730</td>\n",
       "      <td>16.021844</td>\n",
       "      <td>0.369357</td>\n",
       "      <td>0.197836</td>\n",
       "      <td>0.635566</td>\n",
       "      <td>7.422607</td>\n",
       "    </tr>\n",
       "    <tr>\n",
       "      <th>std</th>\n",
       "      <td>1.026403e+08</td>\n",
       "      <td>3.869636e+07</td>\n",
       "      <td>1.445403</td>\n",
       "      <td>5.280166</td>\n",
       "      <td>4.064081</td>\n",
       "      <td>2.985108</td>\n",
       "      <td>19.674362</td>\n",
       "      <td>1.705807</td>\n",
       "      <td>8.127566</td>\n",
       "      <td>1.267265</td>\n",
       "      <td>0.930472</td>\n",
       "      <td>1.262863</td>\n",
       "      <td>1.933600</td>\n",
       "    </tr>\n",
       "    <tr>\n",
       "      <th>min</th>\n",
       "      <td>1.252200e+04</td>\n",
       "      <td>1.350000e+02</td>\n",
       "      <td>1.000000</td>\n",
       "      <td>1.000000</td>\n",
       "      <td>1.000000</td>\n",
       "      <td>1.000000</td>\n",
       "      <td>1.000000</td>\n",
       "      <td>0.000000</td>\n",
       "      <td>1.000000</td>\n",
       "      <td>0.000000</td>\n",
       "      <td>0.000000</td>\n",
       "      <td>0.000000</td>\n",
       "      <td>1.000000</td>\n",
       "    </tr>\n",
       "    <tr>\n",
       "      <th>25%</th>\n",
       "      <td>8.496119e+07</td>\n",
       "      <td>2.341322e+07</td>\n",
       "      <td>1.000000</td>\n",
       "      <td>1.000000</td>\n",
       "      <td>1.000000</td>\n",
       "      <td>2.000000</td>\n",
       "      <td>31.000000</td>\n",
       "      <td>0.000000</td>\n",
       "      <td>10.000000</td>\n",
       "      <td>0.000000</td>\n",
       "      <td>0.000000</td>\n",
       "      <td>0.000000</td>\n",
       "      <td>6.000000</td>\n",
       "    </tr>\n",
       "    <tr>\n",
       "      <th>50%</th>\n",
       "      <td>1.523890e+08</td>\n",
       "      <td>4.550514e+07</td>\n",
       "      <td>1.000000</td>\n",
       "      <td>1.000000</td>\n",
       "      <td>7.000000</td>\n",
       "      <td>4.000000</td>\n",
       "      <td>44.000000</td>\n",
       "      <td>1.000000</td>\n",
       "      <td>15.000000</td>\n",
       "      <td>0.000000</td>\n",
       "      <td>0.000000</td>\n",
       "      <td>0.000000</td>\n",
       "      <td>8.000000</td>\n",
       "    </tr>\n",
       "    <tr>\n",
       "      <th>75%</th>\n",
       "      <td>2.302709e+08</td>\n",
       "      <td>8.754595e+07</td>\n",
       "      <td>3.000000</td>\n",
       "      <td>4.000000</td>\n",
       "      <td>7.000000</td>\n",
       "      <td>6.000000</td>\n",
       "      <td>57.000000</td>\n",
       "      <td>2.000000</td>\n",
       "      <td>20.000000</td>\n",
       "      <td>0.000000</td>\n",
       "      <td>0.000000</td>\n",
       "      <td>1.000000</td>\n",
       "      <td>9.000000</td>\n",
       "    </tr>\n",
       "    <tr>\n",
       "      <th>max</th>\n",
       "      <td>4.438672e+08</td>\n",
       "      <td>1.895026e+08</td>\n",
       "      <td>8.000000</td>\n",
       "      <td>28.000000</td>\n",
       "      <td>25.000000</td>\n",
       "      <td>14.000000</td>\n",
       "      <td>132.000000</td>\n",
       "      <td>6.000000</td>\n",
       "      <td>81.000000</td>\n",
       "      <td>42.000000</td>\n",
       "      <td>76.000000</td>\n",
       "      <td>21.000000</td>\n",
       "      <td>16.000000</td>\n",
       "    </tr>\n",
       "  </tbody>\n",
       "</table>\n",
       "</div>"
      ],
      "text/plain": [
       "       encounter_id   patient_nbr  admission_type_id  \\\n",
       "count  1.017660e+05  1.017660e+05      101766.000000   \n",
       "mean   1.652016e+08  5.433040e+07           2.024006   \n",
       "std    1.026403e+08  3.869636e+07           1.445403   \n",
       "min    1.252200e+04  1.350000e+02           1.000000   \n",
       "25%    8.496119e+07  2.341322e+07           1.000000   \n",
       "50%    1.523890e+08  4.550514e+07           1.000000   \n",
       "75%    2.302709e+08  8.754595e+07           3.000000   \n",
       "max    4.438672e+08  1.895026e+08           8.000000   \n",
       "\n",
       "       discharge_disposition_id  admission_source_id  time_in_hospital  \\\n",
       "count             101766.000000        101766.000000     101766.000000   \n",
       "mean                   3.715642             5.754437          4.395987   \n",
       "std                    5.280166             4.064081          2.985108   \n",
       "min                    1.000000             1.000000          1.000000   \n",
       "25%                    1.000000             1.000000          2.000000   \n",
       "50%                    1.000000             7.000000          4.000000   \n",
       "75%                    4.000000             7.000000          6.000000   \n",
       "max                   28.000000            25.000000         14.000000   \n",
       "\n",
       "       num_lab_procedures  num_procedures  num_medications  number_outpatient  \\\n",
       "count       101766.000000   101766.000000    101766.000000      101766.000000   \n",
       "mean            43.095641        1.339730        16.021844           0.369357   \n",
       "std             19.674362        1.705807         8.127566           1.267265   \n",
       "min              1.000000        0.000000         1.000000           0.000000   \n",
       "25%             31.000000        0.000000        10.000000           0.000000   \n",
       "50%             44.000000        1.000000        15.000000           0.000000   \n",
       "75%             57.000000        2.000000        20.000000           0.000000   \n",
       "max            132.000000        6.000000        81.000000          42.000000   \n",
       "\n",
       "       number_emergency  number_inpatient  number_diagnoses  \n",
       "count     101766.000000     101766.000000     101766.000000  \n",
       "mean           0.197836          0.635566          7.422607  \n",
       "std            0.930472          1.262863          1.933600  \n",
       "min            0.000000          0.000000          1.000000  \n",
       "25%            0.000000          0.000000          6.000000  \n",
       "50%            0.000000          0.000000          8.000000  \n",
       "75%            0.000000          1.000000          9.000000  \n",
       "max           76.000000         21.000000         16.000000  "
      ]
     },
     "execution_count": 6,
     "metadata": {},
     "output_type": "execute_result"
    }
   ],
   "source": [
    "df.describe()"
   ]
  },
  {
   "cell_type": "code",
   "execution_count": 7,
   "id": "5a8c0f68",
   "metadata": {},
   "outputs": [
    {
     "data": {
      "text/plain": [
       "encounter_id                0\n",
       "patient_nbr                 0\n",
       "race                        0\n",
       "gender                      0\n",
       "age                         0\n",
       "weight                      0\n",
       "admission_type_id           0\n",
       "discharge_disposition_id    0\n",
       "admission_source_id         0\n",
       "time_in_hospital            0\n",
       "payer_code                  0\n",
       "medical_specialty           0\n",
       "num_lab_procedures          0\n",
       "num_procedures              0\n",
       "num_medications             0\n",
       "number_outpatient           0\n",
       "number_emergency            0\n",
       "number_inpatient            0\n",
       "diag_1                      0\n",
       "diag_2                      0\n",
       "diag_3                      0\n",
       "number_diagnoses            0\n",
       "max_glu_serum               0\n",
       "A1Cresult                   0\n",
       "insulin                     0\n",
       "change                      0\n",
       "diabetesMed                 0\n",
       "dtype: int64"
      ]
     },
     "execution_count": 7,
     "metadata": {},
     "output_type": "execute_result"
    }
   ],
   "source": [
    "df.isnull().sum()"
   ]
  },
  {
   "cell_type": "markdown",
   "id": "d528f91f",
   "metadata": {},
   "source": [
    "## Cleaning Dataset"
   ]
  },
  {
   "cell_type": "code",
   "execution_count": 8,
   "id": "f309a1a6",
   "metadata": {},
   "outputs": [],
   "source": [
    "df['race'] = df['race'].replace(\"?\",\"null\")"
   ]
  },
  {
   "cell_type": "code",
   "execution_count": 9,
   "id": "1487fdaf",
   "metadata": {},
   "outputs": [],
   "source": [
    "df.drop(['encounter_id','patient_nbr','admission_type_id','discharge_disposition_id','admission_source_id','time_in_hospital','medical_specialty','num_lab_procedures','num_procedures','num_medications','number_outpatient',\n",
    "'number_emergency','number_inpatient','payer_code' ],axis='columns', inplace=True)"
   ]
  },
  {
   "cell_type": "code",
   "execution_count": 10,
   "id": "1470d334",
   "metadata": {},
   "outputs": [
    {
     "data": {
      "text/html": [
       "<div>\n",
       "<style scoped>\n",
       "    .dataframe tbody tr th:only-of-type {\n",
       "        vertical-align: middle;\n",
       "    }\n",
       "\n",
       "    .dataframe tbody tr th {\n",
       "        vertical-align: top;\n",
       "    }\n",
       "\n",
       "    .dataframe thead th {\n",
       "        text-align: right;\n",
       "    }\n",
       "</style>\n",
       "<table border=\"1\" class=\"dataframe\">\n",
       "  <thead>\n",
       "    <tr style=\"text-align: right;\">\n",
       "      <th></th>\n",
       "      <th>race</th>\n",
       "      <th>gender</th>\n",
       "      <th>age</th>\n",
       "      <th>weight</th>\n",
       "      <th>diag_1</th>\n",
       "      <th>diag_2</th>\n",
       "      <th>diag_3</th>\n",
       "      <th>number_diagnoses</th>\n",
       "      <th>max_glu_serum</th>\n",
       "      <th>A1Cresult</th>\n",
       "      <th>insulin</th>\n",
       "      <th>change</th>\n",
       "      <th>diabetesMed</th>\n",
       "    </tr>\n",
       "  </thead>\n",
       "  <tbody>\n",
       "    <tr>\n",
       "      <th>0</th>\n",
       "      <td>Caucasian</td>\n",
       "      <td>Female</td>\n",
       "      <td>[0-10)</td>\n",
       "      <td>?</td>\n",
       "      <td>250.83</td>\n",
       "      <td>?</td>\n",
       "      <td>?</td>\n",
       "      <td>1</td>\n",
       "      <td>None</td>\n",
       "      <td>None</td>\n",
       "      <td>No</td>\n",
       "      <td>No</td>\n",
       "      <td>No</td>\n",
       "    </tr>\n",
       "    <tr>\n",
       "      <th>1</th>\n",
       "      <td>Caucasian</td>\n",
       "      <td>Female</td>\n",
       "      <td>[10-20)</td>\n",
       "      <td>?</td>\n",
       "      <td>276</td>\n",
       "      <td>250.01</td>\n",
       "      <td>255</td>\n",
       "      <td>9</td>\n",
       "      <td>None</td>\n",
       "      <td>None</td>\n",
       "      <td>Up</td>\n",
       "      <td>Ch</td>\n",
       "      <td>Yes</td>\n",
       "    </tr>\n",
       "    <tr>\n",
       "      <th>2</th>\n",
       "      <td>AfricanAmerican</td>\n",
       "      <td>Female</td>\n",
       "      <td>[20-30)</td>\n",
       "      <td>?</td>\n",
       "      <td>648</td>\n",
       "      <td>250</td>\n",
       "      <td>V27</td>\n",
       "      <td>6</td>\n",
       "      <td>None</td>\n",
       "      <td>None</td>\n",
       "      <td>No</td>\n",
       "      <td>No</td>\n",
       "      <td>Yes</td>\n",
       "    </tr>\n",
       "    <tr>\n",
       "      <th>3</th>\n",
       "      <td>Caucasian</td>\n",
       "      <td>Male</td>\n",
       "      <td>[30-40)</td>\n",
       "      <td>?</td>\n",
       "      <td>8</td>\n",
       "      <td>250.43</td>\n",
       "      <td>403</td>\n",
       "      <td>7</td>\n",
       "      <td>None</td>\n",
       "      <td>None</td>\n",
       "      <td>Up</td>\n",
       "      <td>Ch</td>\n",
       "      <td>Yes</td>\n",
       "    </tr>\n",
       "    <tr>\n",
       "      <th>4</th>\n",
       "      <td>Caucasian</td>\n",
       "      <td>Male</td>\n",
       "      <td>[40-50)</td>\n",
       "      <td>?</td>\n",
       "      <td>197</td>\n",
       "      <td>157</td>\n",
       "      <td>250</td>\n",
       "      <td>5</td>\n",
       "      <td>None</td>\n",
       "      <td>None</td>\n",
       "      <td>Steady</td>\n",
       "      <td>Ch</td>\n",
       "      <td>Yes</td>\n",
       "    </tr>\n",
       "  </tbody>\n",
       "</table>\n",
       "</div>"
      ],
      "text/plain": [
       "              race  gender      age weight  diag_1  diag_2 diag_3  \\\n",
       "0        Caucasian  Female   [0-10)      ?  250.83       ?      ?   \n",
       "1        Caucasian  Female  [10-20)      ?     276  250.01    255   \n",
       "2  AfricanAmerican  Female  [20-30)      ?     648     250    V27   \n",
       "3        Caucasian    Male  [30-40)      ?       8  250.43    403   \n",
       "4        Caucasian    Male  [40-50)      ?     197     157    250   \n",
       "\n",
       "   number_diagnoses max_glu_serum A1Cresult insulin change diabetesMed  \n",
       "0                 1          None      None      No     No          No  \n",
       "1                 9          None      None      Up     Ch         Yes  \n",
       "2                 6          None      None      No     No         Yes  \n",
       "3                 7          None      None      Up     Ch         Yes  \n",
       "4                 5          None      None  Steady     Ch         Yes  "
      ]
     },
     "execution_count": 10,
     "metadata": {},
     "output_type": "execute_result"
    }
   ],
   "source": [
    "df.head()"
   ]
  },
  {
   "cell_type": "code",
   "execution_count": 11,
   "id": "33089e98",
   "metadata": {},
   "outputs": [
    {
     "data": {
      "text/plain": [
       "Caucasian          76099\n",
       "AfricanAmerican    19210\n",
       "null                2273\n",
       "Hispanic            2037\n",
       "Other               1506\n",
       "Asian                641\n",
       "Name: race, dtype: int64"
      ]
     },
     "execution_count": 11,
     "metadata": {},
     "output_type": "execute_result"
    }
   ],
   "source": [
    "df['race'].value_counts()"
   ]
  },
  {
   "cell_type": "code",
   "execution_count": 12,
   "id": "68c6441f",
   "metadata": {},
   "outputs": [
    {
     "data": {
      "text/plain": [
       "Female             54708\n",
       "Male               47055\n",
       "Unknown/Invalid        3\n",
       "Name: gender, dtype: int64"
      ]
     },
     "execution_count": 12,
     "metadata": {},
     "output_type": "execute_result"
    }
   ],
   "source": [
    "df['gender'].value_counts()"
   ]
  },
  {
   "cell_type": "code",
   "execution_count": 13,
   "id": "7fd4605f",
   "metadata": {},
   "outputs": [
    {
     "data": {
      "text/plain": [
       "[70-80)     26068\n",
       "[60-70)     22483\n",
       "[50-60)     17256\n",
       "[80-90)     17197\n",
       "[40-50)      9685\n",
       "[30-40)      3775\n",
       "[90-100)     2793\n",
       "[20-30)      1657\n",
       "[10-20)       691\n",
       "[0-10)        161\n",
       "Name: age, dtype: int64"
      ]
     },
     "execution_count": 13,
     "metadata": {},
     "output_type": "execute_result"
    }
   ],
   "source": [
    "df['age'].value_counts()"
   ]
  },
  {
   "cell_type": "code",
   "execution_count": 14,
   "id": "b183e6ef",
   "metadata": {},
   "outputs": [],
   "source": [
    "df['age'] = df['age'].replace(\"[0-10)\",\"0\")\n",
    "df['age'] = df['age'].replace(\"[10-20)\",\"0\")\n",
    "df['age'] = df['age'].replace(\"[20-30)\",\"0\")\n",
    "df['age'] = df['age'].replace(\"[30-40)\",\"1\")\n",
    "df['age'] = df['age'].replace(\"[40-50)\",\"1\")\n",
    "df['age'] = df['age'].replace(\"[50-60)\",\"1\")\n",
    "df['age'] = df['age'].replace(\"[60-70)\",\"2\")\n",
    "df['age'] = df['age'].replace(\"[70-80)\",\"2\")\n",
    "df['age'] = df['age'].replace(\"[80-90)\",\"2\")\n",
    "df['age'] = df['age'].replace(\"[90-100)\",\"2\")"
   ]
  },
  {
   "cell_type": "code",
   "execution_count": 15,
   "id": "21ed5449",
   "metadata": {},
   "outputs": [],
   "source": [
    "df['age']= df['age'].astype('int64')"
   ]
  },
  {
   "cell_type": "code",
   "execution_count": 16,
   "id": "4d925b46",
   "metadata": {},
   "outputs": [],
   "source": [
    "df['weight'] = df['weight'].replace(\"?\",\"0\")\n",
    "df['weight'] = df['weight'].str.replace(\">\",'')"
   ]
  },
  {
   "cell_type": "code",
   "execution_count": 17,
   "id": "cd3c2b06",
   "metadata": {},
   "outputs": [
    {
     "data": {
      "text/plain": [
       "0            98569\n",
       "[75-100)      1336\n",
       "[50-75)        897\n",
       "[100-125)      625\n",
       "[125-150)      145\n",
       "[25-50)         97\n",
       "[0-25)          48\n",
       "[150-175)       35\n",
       "[175-200)       11\n",
       "200              3\n",
       "Name: weight, dtype: int64"
      ]
     },
     "execution_count": 17,
     "metadata": {},
     "output_type": "execute_result"
    }
   ],
   "source": [
    "df['weight'].value_counts()"
   ]
  },
  {
   "cell_type": "code",
   "execution_count": 18,
   "id": "2bb84c37",
   "metadata": {},
   "outputs": [],
   "source": [
    "df['weight'] = df['weight'].replace(\"0\",\"0\")\n",
    "df['weight'] = df['weight'].replace(\"[0-25)\",\"0\")\n",
    "df['weight'] = df['weight'].replace(\"[25-50)\",\"0\")\n",
    "df['weight'] = df['weight'].replace(\"[50-75)\",\"1\")\n",
    "df['weight'] = df['weight'].replace(\"[75-100)\",\"1\")\n",
    "df['weight'] = df['weight'].replace(\"[100-125)\",\"1\")\n",
    "df['weight'] = df['weight'].replace(\"[125-150)\",\"2\")\n",
    "df['weight'] = df['weight'].replace(\"[150-175)\",\"2\")\n",
    "df['weight'] = df['weight'].replace(\"[175-200)\",\"2\")\n",
    "df['weight'] = df['weight'].replace(\"200\",\"3\")"
   ]
  },
  {
   "cell_type": "code",
   "execution_count": 19,
   "id": "7c9c39b0",
   "metadata": {},
   "outputs": [],
   "source": [
    "df['weight']= df['weight'].astype('int64')"
   ]
  },
  {
   "cell_type": "code",
   "execution_count": 20,
   "id": "8f56cebf",
   "metadata": {
    "scrolled": true
   },
   "outputs": [
    {
     "data": {
      "text/html": [
       "<div>\n",
       "<style scoped>\n",
       "    .dataframe tbody tr th:only-of-type {\n",
       "        vertical-align: middle;\n",
       "    }\n",
       "\n",
       "    .dataframe tbody tr th {\n",
       "        vertical-align: top;\n",
       "    }\n",
       "\n",
       "    .dataframe thead th {\n",
       "        text-align: right;\n",
       "    }\n",
       "</style>\n",
       "<table border=\"1\" class=\"dataframe\">\n",
       "  <thead>\n",
       "    <tr style=\"text-align: right;\">\n",
       "      <th></th>\n",
       "      <th>race</th>\n",
       "      <th>gender</th>\n",
       "      <th>age</th>\n",
       "      <th>weight</th>\n",
       "      <th>diag_1</th>\n",
       "      <th>diag_2</th>\n",
       "      <th>diag_3</th>\n",
       "      <th>number_diagnoses</th>\n",
       "      <th>max_glu_serum</th>\n",
       "      <th>A1Cresult</th>\n",
       "      <th>insulin</th>\n",
       "      <th>change</th>\n",
       "      <th>diabetesMed</th>\n",
       "    </tr>\n",
       "  </thead>\n",
       "  <tbody>\n",
       "    <tr>\n",
       "      <th>0</th>\n",
       "      <td>Caucasian</td>\n",
       "      <td>Female</td>\n",
       "      <td>0</td>\n",
       "      <td>0</td>\n",
       "      <td>250.83</td>\n",
       "      <td>?</td>\n",
       "      <td>?</td>\n",
       "      <td>1</td>\n",
       "      <td>None</td>\n",
       "      <td>None</td>\n",
       "      <td>No</td>\n",
       "      <td>No</td>\n",
       "      <td>No</td>\n",
       "    </tr>\n",
       "    <tr>\n",
       "      <th>1</th>\n",
       "      <td>Caucasian</td>\n",
       "      <td>Female</td>\n",
       "      <td>0</td>\n",
       "      <td>0</td>\n",
       "      <td>276</td>\n",
       "      <td>250.01</td>\n",
       "      <td>255</td>\n",
       "      <td>9</td>\n",
       "      <td>None</td>\n",
       "      <td>None</td>\n",
       "      <td>Up</td>\n",
       "      <td>Ch</td>\n",
       "      <td>Yes</td>\n",
       "    </tr>\n",
       "    <tr>\n",
       "      <th>2</th>\n",
       "      <td>AfricanAmerican</td>\n",
       "      <td>Female</td>\n",
       "      <td>0</td>\n",
       "      <td>0</td>\n",
       "      <td>648</td>\n",
       "      <td>250</td>\n",
       "      <td>V27</td>\n",
       "      <td>6</td>\n",
       "      <td>None</td>\n",
       "      <td>None</td>\n",
       "      <td>No</td>\n",
       "      <td>No</td>\n",
       "      <td>Yes</td>\n",
       "    </tr>\n",
       "    <tr>\n",
       "      <th>3</th>\n",
       "      <td>Caucasian</td>\n",
       "      <td>Male</td>\n",
       "      <td>1</td>\n",
       "      <td>0</td>\n",
       "      <td>8</td>\n",
       "      <td>250.43</td>\n",
       "      <td>403</td>\n",
       "      <td>7</td>\n",
       "      <td>None</td>\n",
       "      <td>None</td>\n",
       "      <td>Up</td>\n",
       "      <td>Ch</td>\n",
       "      <td>Yes</td>\n",
       "    </tr>\n",
       "    <tr>\n",
       "      <th>4</th>\n",
       "      <td>Caucasian</td>\n",
       "      <td>Male</td>\n",
       "      <td>1</td>\n",
       "      <td>0</td>\n",
       "      <td>197</td>\n",
       "      <td>157</td>\n",
       "      <td>250</td>\n",
       "      <td>5</td>\n",
       "      <td>None</td>\n",
       "      <td>None</td>\n",
       "      <td>Steady</td>\n",
       "      <td>Ch</td>\n",
       "      <td>Yes</td>\n",
       "    </tr>\n",
       "  </tbody>\n",
       "</table>\n",
       "</div>"
      ],
      "text/plain": [
       "              race  gender  age  weight  diag_1  diag_2 diag_3  \\\n",
       "0        Caucasian  Female    0       0  250.83       ?      ?   \n",
       "1        Caucasian  Female    0       0     276  250.01    255   \n",
       "2  AfricanAmerican  Female    0       0     648     250    V27   \n",
       "3        Caucasian    Male    1       0       8  250.43    403   \n",
       "4        Caucasian    Male    1       0     197     157    250   \n",
       "\n",
       "   number_diagnoses max_glu_serum A1Cresult insulin change diabetesMed  \n",
       "0                 1          None      None      No     No          No  \n",
       "1                 9          None      None      Up     Ch         Yes  \n",
       "2                 6          None      None      No     No         Yes  \n",
       "3                 7          None      None      Up     Ch         Yes  \n",
       "4                 5          None      None  Steady     Ch         Yes  "
      ]
     },
     "execution_count": 20,
     "metadata": {},
     "output_type": "execute_result"
    }
   ],
   "source": [
    "df.head()"
   ]
  },
  {
   "cell_type": "code",
   "execution_count": 21,
   "id": "2ec05978",
   "metadata": {},
   "outputs": [],
   "source": [
    "df['diag_1'] = df['diag_1'].replace(\"?\",\"0\")\n",
    "df['diag_2'] = df['diag_2'].replace(\"?\",\"0\")\n",
    "df['diag_3'] = df['diag_3'].replace(\"?\",\"0\")"
   ]
  },
  {
   "cell_type": "code",
   "execution_count": 22,
   "id": "4194250f",
   "metadata": {},
   "outputs": [],
   "source": [
    "df['diag_1']= df['diag_1'].str.replace('V','')\n",
    "df['diag_1']= df['diag_1'].str.replace('E','')\n",
    "df['diag_2']= df['diag_2'].str.replace('V','')\n",
    "df['diag_2']= df['diag_2'].str.replace('E','')\n",
    "df['diag_3']= df['diag_3'].str.replace('V','')\n",
    "df['diag_3']= df['diag_3'].str.replace('E','')"
   ]
  },
  {
   "cell_type": "code",
   "execution_count": 23,
   "id": "11667949",
   "metadata": {},
   "outputs": [],
   "source": [
    "df['diag_1']= df['diag_1'].astype('float64')"
   ]
  },
  {
   "cell_type": "code",
   "execution_count": 24,
   "id": "e1c1a2a3",
   "metadata": {},
   "outputs": [],
   "source": [
    "df['diag_2']= df['diag_2'].astype('float64')"
   ]
  },
  {
   "cell_type": "code",
   "execution_count": 25,
   "id": "6107a83c",
   "metadata": {},
   "outputs": [],
   "source": [
    "df['diag_3']= df['diag_3'].astype('float64')"
   ]
  },
  {
   "cell_type": "code",
   "execution_count": 26,
   "id": "142915df",
   "metadata": {},
   "outputs": [
    {
     "data": {
      "text/plain": [
       "None    96420\n",
       "Norm     2597\n",
       ">200     1485\n",
       ">300     1264\n",
       "Name: max_glu_serum, dtype: int64"
      ]
     },
     "execution_count": 26,
     "metadata": {},
     "output_type": "execute_result"
    }
   ],
   "source": [
    "df['max_glu_serum'].value_counts()"
   ]
  },
  {
   "cell_type": "code",
   "execution_count": 27,
   "id": "d4a5c38f",
   "metadata": {},
   "outputs": [],
   "source": [
    "df['max_glu_serum']= df['max_glu_serum'].replace(\"None\",\"0\")\n",
    "df['max_glu_serum']= df['max_glu_serum'].replace(\"Norm\",\"1\")"
   ]
  },
  {
   "cell_type": "code",
   "execution_count": 28,
   "id": "2f461a46",
   "metadata": {},
   "outputs": [],
   "source": [
    "df['max_glu_serum']= df['max_glu_serum'].str.replace(\">\",'')"
   ]
  },
  {
   "cell_type": "code",
   "execution_count": 29,
   "id": "884abd39",
   "metadata": {},
   "outputs": [
    {
     "data": {
      "text/plain": [
       "0      96420\n",
       "1       2597\n",
       "200     1485\n",
       "300     1264\n",
       "Name: max_glu_serum, dtype: int64"
      ]
     },
     "execution_count": 29,
     "metadata": {},
     "output_type": "execute_result"
    }
   ],
   "source": [
    "df['max_glu_serum'].value_counts()"
   ]
  },
  {
   "cell_type": "code",
   "execution_count": 30,
   "id": "60796048",
   "metadata": {},
   "outputs": [],
   "source": [
    "df['max_glu_serum']= df['max_glu_serum'].astype('int64')"
   ]
  },
  {
   "cell_type": "code",
   "execution_count": 31,
   "id": "4d2bc689",
   "metadata": {},
   "outputs": [
    {
     "data": {
      "text/plain": [
       "dtype('int64')"
      ]
     },
     "execution_count": 31,
     "metadata": {},
     "output_type": "execute_result"
    }
   ],
   "source": [
    "df['max_glu_serum'].dtypes"
   ]
  },
  {
   "cell_type": "code",
   "execution_count": 32,
   "id": "9a0bda4d",
   "metadata": {},
   "outputs": [
    {
     "data": {
      "text/plain": [
       "None    84748\n",
       ">8       8216\n",
       "Norm     4990\n",
       ">7       3812\n",
       "Name: A1Cresult, dtype: int64"
      ]
     },
     "execution_count": 32,
     "metadata": {},
     "output_type": "execute_result"
    }
   ],
   "source": [
    "df['A1Cresult'].value_counts()"
   ]
  },
  {
   "cell_type": "code",
   "execution_count": 33,
   "id": "0b1334af",
   "metadata": {},
   "outputs": [],
   "source": [
    "df['A1Cresult']= df['A1Cresult'].replace(\"None\",\"0\")\n",
    "df['A1Cresult']= df['A1Cresult'].replace(\"Norm\",\"1\")\n",
    "df['A1Cresult']= df['A1Cresult'].str.replace(\">\",'')"
   ]
  },
  {
   "cell_type": "code",
   "execution_count": 34,
   "id": "b4924294",
   "metadata": {},
   "outputs": [
    {
     "data": {
      "text/plain": [
       "0    84748\n",
       "8     8216\n",
       "1     4990\n",
       "7     3812\n",
       "Name: A1Cresult, dtype: int64"
      ]
     },
     "execution_count": 34,
     "metadata": {},
     "output_type": "execute_result"
    }
   ],
   "source": [
    "df['A1Cresult'].value_counts()"
   ]
  },
  {
   "cell_type": "code",
   "execution_count": 35,
   "id": "2ae53efb",
   "metadata": {},
   "outputs": [
    {
     "data": {
      "text/plain": [
       "dtype('int64')"
      ]
     },
     "execution_count": 35,
     "metadata": {},
     "output_type": "execute_result"
    }
   ],
   "source": [
    "df['A1Cresult']= df['A1Cresult'].astype('int64')\n",
    "df['A1Cresult'].dtypes"
   ]
  },
  {
   "cell_type": "code",
   "execution_count": 36,
   "id": "6f4191c6",
   "metadata": {},
   "outputs": [
    {
     "name": "stdout",
     "output_type": "stream",
     "text": [
      "<class 'pandas.core.frame.DataFrame'>\n",
      "RangeIndex: 101766 entries, 0 to 101765\n",
      "Data columns (total 13 columns):\n",
      " #   Column            Non-Null Count   Dtype  \n",
      "---  ------            --------------   -----  \n",
      " 0   race              101766 non-null  object \n",
      " 1   gender            101766 non-null  object \n",
      " 2   age               101766 non-null  int64  \n",
      " 3   weight            101766 non-null  int64  \n",
      " 4   diag_1            101766 non-null  float64\n",
      " 5   diag_2            101766 non-null  float64\n",
      " 6   diag_3            101766 non-null  float64\n",
      " 7   number_diagnoses  101766 non-null  int64  \n",
      " 8   max_glu_serum     101766 non-null  int64  \n",
      " 9   A1Cresult         101766 non-null  int64  \n",
      " 10  insulin           101766 non-null  object \n",
      " 11  change            101766 non-null  object \n",
      " 12  diabetesMed       101766 non-null  object \n",
      "dtypes: float64(3), int64(5), object(5)\n",
      "memory usage: 10.1+ MB\n"
     ]
    }
   ],
   "source": [
    "df.info()"
   ]
  },
  {
   "cell_type": "code",
   "execution_count": 37,
   "id": "ac3e5dc7",
   "metadata": {},
   "outputs": [
    {
     "data": {
      "text/plain": [
       "No        47383\n",
       "Steady    30849\n",
       "Down      12218\n",
       "Up        11316\n",
       "Name: insulin, dtype: int64"
      ]
     },
     "execution_count": 37,
     "metadata": {},
     "output_type": "execute_result"
    }
   ],
   "source": [
    "df['insulin'].value_counts()"
   ]
  },
  {
   "cell_type": "code",
   "execution_count": 38,
   "id": "6a4c07c7",
   "metadata": {},
   "outputs": [
    {
     "data": {
      "text/plain": [
       "No    54755\n",
       "Ch    47011\n",
       "Name: change, dtype: int64"
      ]
     },
     "execution_count": 38,
     "metadata": {},
     "output_type": "execute_result"
    }
   ],
   "source": [
    "df['change'].value_counts()"
   ]
  },
  {
   "cell_type": "code",
   "execution_count": 39,
   "id": "8f26da1e",
   "metadata": {},
   "outputs": [],
   "source": [
    "df['change']= df['change'].replace(\"No\",0)\n",
    "df['change']= df['change'].replace(\"Ch\",1)"
   ]
  },
  {
   "cell_type": "code",
   "execution_count": 40,
   "id": "c990aeef",
   "metadata": {},
   "outputs": [
    {
     "data": {
      "text/plain": [
       "0    54755\n",
       "1    47011\n",
       "Name: change, dtype: int64"
      ]
     },
     "execution_count": 40,
     "metadata": {},
     "output_type": "execute_result"
    }
   ],
   "source": [
    "df['change'].value_counts()"
   ]
  },
  {
   "cell_type": "code",
   "execution_count": 41,
   "id": "208623a4",
   "metadata": {},
   "outputs": [
    {
     "data": {
      "text/plain": [
       "Yes    78363\n",
       "No     23403\n",
       "Name: diabetesMed, dtype: int64"
      ]
     },
     "execution_count": 41,
     "metadata": {},
     "output_type": "execute_result"
    }
   ],
   "source": [
    "df['diabetesMed'].value_counts()"
   ]
  },
  {
   "cell_type": "code",
   "execution_count": 42,
   "id": "61c55eb3",
   "metadata": {},
   "outputs": [],
   "source": [
    "df['diabetesMed']= df['diabetesMed'].replace(\"Yes\",0)\n",
    "df['diabetesMed']= df['diabetesMed'].replace(\"No\",1)"
   ]
  },
  {
   "cell_type": "code",
   "execution_count": 43,
   "id": "ce7bcb5a",
   "metadata": {},
   "outputs": [
    {
     "data": {
      "text/plain": [
       "0    78363\n",
       "1    23403\n",
       "Name: diabetesMed, dtype: int64"
      ]
     },
     "execution_count": 43,
     "metadata": {},
     "output_type": "execute_result"
    }
   ],
   "source": [
    "df['diabetesMed'].value_counts()"
   ]
  },
  {
   "cell_type": "markdown",
   "id": "fc70e615",
   "metadata": {},
   "source": [
    "# Categorical to numerical Transformation"
   ]
  },
  {
   "cell_type": "markdown",
   "id": "39c67a51",
   "metadata": {},
   "source": [
    "### using-----OneHotEncoder"
   ]
  },
  {
   "cell_type": "code",
   "execution_count": 44,
   "id": "2217bcd4",
   "metadata": {},
   "outputs": [],
   "source": [
    "from sklearn.preprocessing import OneHotEncoder\n",
    "onehotencoder = OneHotEncoder()\n",
    "X = onehotencoder.fit_transform(df[[\"race\"]])\n",
    "dfone = pd.DataFrame(X.toarray(),columns = onehotencoder.categories_)\n",
    "df = pd.concat([df,dfone], axis = 1)\n",
    "df = df.drop(['race'],axis = 1)"
   ]
  },
  {
   "cell_type": "code",
   "execution_count": 45,
   "id": "7fc29417",
   "metadata": {},
   "outputs": [],
   "source": [
    "X = onehotencoder.fit_transform(df[[\"gender\"]])\n",
    "dfone2 = pd.DataFrame(X.toarray(),columns = onehotencoder.categories_)\n",
    "df = pd.concat([df,dfone2], axis = 1)\n",
    "df = df.drop(['gender'],axis = 1)"
   ]
  },
  {
   "cell_type": "code",
   "execution_count": 46,
   "id": "918c50dc",
   "metadata": {},
   "outputs": [],
   "source": [
    "X = onehotencoder.fit_transform(df[[\"insulin\"]])\n",
    "dfone2 = pd.DataFrame(X.toarray(),columns = onehotencoder.categories_)\n",
    "df = pd.concat([df,dfone2], axis = 1)\n",
    "df = df.drop(['insulin'],axis = 1)"
   ]
  },
  {
   "cell_type": "code",
   "execution_count": 47,
   "id": "2b41c9cf",
   "metadata": {},
   "outputs": [
    {
     "data": {
      "text/html": [
       "<div>\n",
       "<style scoped>\n",
       "    .dataframe tbody tr th:only-of-type {\n",
       "        vertical-align: middle;\n",
       "    }\n",
       "\n",
       "    .dataframe tbody tr th {\n",
       "        vertical-align: top;\n",
       "    }\n",
       "\n",
       "    .dataframe thead th {\n",
       "        text-align: right;\n",
       "    }\n",
       "</style>\n",
       "<table border=\"1\" class=\"dataframe\">\n",
       "  <thead>\n",
       "    <tr style=\"text-align: right;\">\n",
       "      <th></th>\n",
       "      <th>age</th>\n",
       "      <th>weight</th>\n",
       "      <th>diag_1</th>\n",
       "      <th>diag_2</th>\n",
       "      <th>diag_3</th>\n",
       "      <th>number_diagnoses</th>\n",
       "      <th>max_glu_serum</th>\n",
       "      <th>A1Cresult</th>\n",
       "      <th>change</th>\n",
       "      <th>diabetesMed</th>\n",
       "      <th>...</th>\n",
       "      <th>(Hispanic,)</th>\n",
       "      <th>(Other,)</th>\n",
       "      <th>(null,)</th>\n",
       "      <th>(Female,)</th>\n",
       "      <th>(Male,)</th>\n",
       "      <th>(Unknown/Invalid,)</th>\n",
       "      <th>(Down,)</th>\n",
       "      <th>(No,)</th>\n",
       "      <th>(Steady,)</th>\n",
       "      <th>(Up,)</th>\n",
       "    </tr>\n",
       "  </thead>\n",
       "  <tbody>\n",
       "    <tr>\n",
       "      <th>0</th>\n",
       "      <td>0</td>\n",
       "      <td>0</td>\n",
       "      <td>250.83</td>\n",
       "      <td>0.00</td>\n",
       "      <td>0.0</td>\n",
       "      <td>1</td>\n",
       "      <td>0</td>\n",
       "      <td>0</td>\n",
       "      <td>0</td>\n",
       "      <td>1</td>\n",
       "      <td>...</td>\n",
       "      <td>0.0</td>\n",
       "      <td>0.0</td>\n",
       "      <td>0.0</td>\n",
       "      <td>1.0</td>\n",
       "      <td>0.0</td>\n",
       "      <td>0.0</td>\n",
       "      <td>0.0</td>\n",
       "      <td>1.0</td>\n",
       "      <td>0.0</td>\n",
       "      <td>0.0</td>\n",
       "    </tr>\n",
       "    <tr>\n",
       "      <th>1</th>\n",
       "      <td>0</td>\n",
       "      <td>0</td>\n",
       "      <td>276.00</td>\n",
       "      <td>250.01</td>\n",
       "      <td>255.0</td>\n",
       "      <td>9</td>\n",
       "      <td>0</td>\n",
       "      <td>0</td>\n",
       "      <td>1</td>\n",
       "      <td>0</td>\n",
       "      <td>...</td>\n",
       "      <td>0.0</td>\n",
       "      <td>0.0</td>\n",
       "      <td>0.0</td>\n",
       "      <td>1.0</td>\n",
       "      <td>0.0</td>\n",
       "      <td>0.0</td>\n",
       "      <td>0.0</td>\n",
       "      <td>0.0</td>\n",
       "      <td>0.0</td>\n",
       "      <td>1.0</td>\n",
       "    </tr>\n",
       "    <tr>\n",
       "      <th>2</th>\n",
       "      <td>0</td>\n",
       "      <td>0</td>\n",
       "      <td>648.00</td>\n",
       "      <td>250.00</td>\n",
       "      <td>27.0</td>\n",
       "      <td>6</td>\n",
       "      <td>0</td>\n",
       "      <td>0</td>\n",
       "      <td>0</td>\n",
       "      <td>0</td>\n",
       "      <td>...</td>\n",
       "      <td>0.0</td>\n",
       "      <td>0.0</td>\n",
       "      <td>0.0</td>\n",
       "      <td>1.0</td>\n",
       "      <td>0.0</td>\n",
       "      <td>0.0</td>\n",
       "      <td>0.0</td>\n",
       "      <td>1.0</td>\n",
       "      <td>0.0</td>\n",
       "      <td>0.0</td>\n",
       "    </tr>\n",
       "    <tr>\n",
       "      <th>3</th>\n",
       "      <td>1</td>\n",
       "      <td>0</td>\n",
       "      <td>8.00</td>\n",
       "      <td>250.43</td>\n",
       "      <td>403.0</td>\n",
       "      <td>7</td>\n",
       "      <td>0</td>\n",
       "      <td>0</td>\n",
       "      <td>1</td>\n",
       "      <td>0</td>\n",
       "      <td>...</td>\n",
       "      <td>0.0</td>\n",
       "      <td>0.0</td>\n",
       "      <td>0.0</td>\n",
       "      <td>0.0</td>\n",
       "      <td>1.0</td>\n",
       "      <td>0.0</td>\n",
       "      <td>0.0</td>\n",
       "      <td>0.0</td>\n",
       "      <td>0.0</td>\n",
       "      <td>1.0</td>\n",
       "    </tr>\n",
       "    <tr>\n",
       "      <th>4</th>\n",
       "      <td>1</td>\n",
       "      <td>0</td>\n",
       "      <td>197.00</td>\n",
       "      <td>157.00</td>\n",
       "      <td>250.0</td>\n",
       "      <td>5</td>\n",
       "      <td>0</td>\n",
       "      <td>0</td>\n",
       "      <td>1</td>\n",
       "      <td>0</td>\n",
       "      <td>...</td>\n",
       "      <td>0.0</td>\n",
       "      <td>0.0</td>\n",
       "      <td>0.0</td>\n",
       "      <td>0.0</td>\n",
       "      <td>1.0</td>\n",
       "      <td>0.0</td>\n",
       "      <td>0.0</td>\n",
       "      <td>0.0</td>\n",
       "      <td>1.0</td>\n",
       "      <td>0.0</td>\n",
       "    </tr>\n",
       "  </tbody>\n",
       "</table>\n",
       "<p>5 rows × 23 columns</p>\n",
       "</div>"
      ],
      "text/plain": [
       "   age  weight  diag_1  diag_2  diag_3  number_diagnoses  max_glu_serum  \\\n",
       "0    0       0  250.83    0.00     0.0                 1              0   \n",
       "1    0       0  276.00  250.01   255.0                 9              0   \n",
       "2    0       0  648.00  250.00    27.0                 6              0   \n",
       "3    1       0    8.00  250.43   403.0                 7              0   \n",
       "4    1       0  197.00  157.00   250.0                 5              0   \n",
       "\n",
       "   A1Cresult  change  diabetesMed  ...  (Hispanic,)  (Other,)  (null,)  \\\n",
       "0          0       0            1  ...          0.0       0.0      0.0   \n",
       "1          0       1            0  ...          0.0       0.0      0.0   \n",
       "2          0       0            0  ...          0.0       0.0      0.0   \n",
       "3          0       1            0  ...          0.0       0.0      0.0   \n",
       "4          0       1            0  ...          0.0       0.0      0.0   \n",
       "\n",
       "   (Female,)  (Male,)  (Unknown/Invalid,)  (Down,)  (No,)  (Steady,)  (Up,)  \n",
       "0        1.0      0.0                 0.0      0.0    1.0        0.0    0.0  \n",
       "1        1.0      0.0                 0.0      0.0    0.0        0.0    1.0  \n",
       "2        1.0      0.0                 0.0      0.0    1.0        0.0    0.0  \n",
       "3        0.0      1.0                 0.0      0.0    0.0        0.0    1.0  \n",
       "4        0.0      1.0                 0.0      0.0    0.0        1.0    0.0  \n",
       "\n",
       "[5 rows x 23 columns]"
      ]
     },
     "execution_count": 47,
     "metadata": {},
     "output_type": "execute_result"
    }
   ],
   "source": [
    "df.head()"
   ]
  },
  {
   "cell_type": "code",
   "execution_count": 48,
   "id": "d74be467",
   "metadata": {},
   "outputs": [
    {
     "name": "stdout",
     "output_type": "stream",
     "text": [
      "<class 'pandas.core.frame.DataFrame'>\n",
      "RangeIndex: 101766 entries, 0 to 101765\n",
      "Data columns (total 23 columns):\n",
      " #   Column              Non-Null Count   Dtype  \n",
      "---  ------              --------------   -----  \n",
      " 0   age                 101766 non-null  int64  \n",
      " 1   weight              101766 non-null  int64  \n",
      " 2   diag_1              101766 non-null  float64\n",
      " 3   diag_2              101766 non-null  float64\n",
      " 4   diag_3              101766 non-null  float64\n",
      " 5   number_diagnoses    101766 non-null  int64  \n",
      " 6   max_glu_serum       101766 non-null  int64  \n",
      " 7   A1Cresult           101766 non-null  int64  \n",
      " 8   change              101766 non-null  int64  \n",
      " 9   diabetesMed         101766 non-null  int64  \n",
      " 10  (AfricanAmerican,)  101766 non-null  float64\n",
      " 11  (Asian,)            101766 non-null  float64\n",
      " 12  (Caucasian,)        101766 non-null  float64\n",
      " 13  (Hispanic,)         101766 non-null  float64\n",
      " 14  (Other,)            101766 non-null  float64\n",
      " 15  (null,)             101766 non-null  float64\n",
      " 16  (Female,)           101766 non-null  float64\n",
      " 17  (Male,)             101766 non-null  float64\n",
      " 18  (Unknown/Invalid,)  101766 non-null  float64\n",
      " 19  (Down,)             101766 non-null  float64\n",
      " 20  (No,)               101766 non-null  float64\n",
      " 21  (Steady,)           101766 non-null  float64\n",
      " 22  (Up,)               101766 non-null  float64\n",
      "dtypes: float64(16), int64(7)\n",
      "memory usage: 17.9 MB\n"
     ]
    }
   ],
   "source": [
    "df.info()"
   ]
  },
  {
   "cell_type": "code",
   "execution_count": 49,
   "id": "4600ed15",
   "metadata": {},
   "outputs": [],
   "source": [
    "#df = df.rename(columns={'(No,)':'no'},inplace=True)"
   ]
  },
  {
   "cell_type": "code",
   "execution_count": 50,
   "id": "da0eac75",
   "metadata": {},
   "outputs": [],
   "source": [
    "#df.rename(columns={'(AfricanAmerican,)':'africanamerican'},inplace=True)"
   ]
  },
  {
   "cell_type": "code",
   "execution_count": 51,
   "id": "c44ee1f8",
   "metadata": {},
   "outputs": [],
   "source": [
    "#df.rename(columns={'(Asian,)':'asian'},inplace=True)"
   ]
  },
  {
   "cell_type": "code",
   "execution_count": 52,
   "id": "06cadcf6",
   "metadata": {},
   "outputs": [],
   "source": [
    "#df.rename(columns={'(Caucasian,)':'caucasian'},inplace=True)"
   ]
  },
  {
   "cell_type": "code",
   "execution_count": 53,
   "id": "6ab1919f",
   "metadata": {},
   "outputs": [],
   "source": [
    "#df.rename(columns={'(Hispanic,)':'hispanic'},inplace=True)"
   ]
  },
  {
   "cell_type": "code",
   "execution_count": 54,
   "id": "d854d272",
   "metadata": {},
   "outputs": [],
   "source": [
    "#df.rename(columns={'(Other,)':'otherrr'},inplace=True)"
   ]
  },
  {
   "cell_type": "code",
   "execution_count": 55,
   "id": "ff23e3aa",
   "metadata": {},
   "outputs": [],
   "source": [
    "#df.rename(columns={'(null,)':'null'},inplace=True)"
   ]
  },
  {
   "cell_type": "code",
   "execution_count": 56,
   "id": "52732fe2",
   "metadata": {},
   "outputs": [],
   "source": [
    "#df.rename(columns={'(Female,)':'female'},inplace=True)"
   ]
  },
  {
   "cell_type": "code",
   "execution_count": 57,
   "id": "90712021",
   "metadata": {},
   "outputs": [],
   "source": [
    "#df.rename(columns={'(Male,)':'male'},inplace=True)"
   ]
  },
  {
   "cell_type": "code",
   "execution_count": 58,
   "id": "cb6611ac",
   "metadata": {},
   "outputs": [],
   "source": [
    "#df.rename(columns={'(Unknown/Invalid,)':'unknown/invalid'},inplace=True)"
   ]
  },
  {
   "cell_type": "code",
   "execution_count": 59,
   "id": "428bae2b",
   "metadata": {},
   "outputs": [],
   "source": [
    "#df.rename(columns={'(steady,)':'steady'},inplace=True)"
   ]
  },
  {
   "cell_type": "code",
   "execution_count": 60,
   "id": "dca7644a",
   "metadata": {},
   "outputs": [],
   "source": [
    "#df.rename(columns={'(up,)':'up'},inplace=True)"
   ]
  },
  {
   "cell_type": "code",
   "execution_count": 61,
   "id": "7a95fa96",
   "metadata": {},
   "outputs": [],
   "source": [
    "#df.rename(columns={'(down,)':'down'},inplace=True)"
   ]
  },
  {
   "cell_type": "code",
   "execution_count": 62,
   "id": "a050c497",
   "metadata": {},
   "outputs": [
    {
     "name": "stdout",
     "output_type": "stream",
     "text": [
      "<class 'pandas.core.frame.DataFrame'>\n",
      "RangeIndex: 101766 entries, 0 to 101765\n",
      "Data columns (total 23 columns):\n",
      " #   Column              Non-Null Count   Dtype  \n",
      "---  ------              --------------   -----  \n",
      " 0   age                 101766 non-null  int64  \n",
      " 1   weight              101766 non-null  int64  \n",
      " 2   diag_1              101766 non-null  float64\n",
      " 3   diag_2              101766 non-null  float64\n",
      " 4   diag_3              101766 non-null  float64\n",
      " 5   number_diagnoses    101766 non-null  int64  \n",
      " 6   max_glu_serum       101766 non-null  int64  \n",
      " 7   A1Cresult           101766 non-null  int64  \n",
      " 8   change              101766 non-null  int64  \n",
      " 9   diabetesMed         101766 non-null  int64  \n",
      " 10  (AfricanAmerican,)  101766 non-null  float64\n",
      " 11  (Asian,)            101766 non-null  float64\n",
      " 12  (Caucasian,)        101766 non-null  float64\n",
      " 13  (Hispanic,)         101766 non-null  float64\n",
      " 14  (Other,)            101766 non-null  float64\n",
      " 15  (null,)             101766 non-null  float64\n",
      " 16  (Female,)           101766 non-null  float64\n",
      " 17  (Male,)             101766 non-null  float64\n",
      " 18  (Unknown/Invalid,)  101766 non-null  float64\n",
      " 19  (Down,)             101766 non-null  float64\n",
      " 20  (No,)               101766 non-null  float64\n",
      " 21  (Steady,)           101766 non-null  float64\n",
      " 22  (Up,)               101766 non-null  float64\n",
      "dtypes: float64(16), int64(7)\n",
      "memory usage: 17.9 MB\n"
     ]
    }
   ],
   "source": [
    "df.info()"
   ]
  },
  {
   "cell_type": "markdown",
   "id": "e01a4146",
   "metadata": {},
   "source": [
    "## Plotting Histograms"
   ]
  },
  {
   "cell_type": "code",
   "execution_count": 63,
   "id": "0735b8a8",
   "metadata": {},
   "outputs": [],
   "source": [
    "%matplotlib inline\n",
    "import matplotlib.pyplot as plt"
   ]
  },
  {
   "cell_type": "code",
   "execution_count": 64,
   "id": "db661fe9",
   "metadata": {},
   "outputs": [
    {
     "data": {
      "text/plain": [
       "array([[<AxesSubplot:title={'center':'age'}>,\n",
       "        <AxesSubplot:title={'center':'weight'}>,\n",
       "        <AxesSubplot:title={'center':'diag_1'}>,\n",
       "        <AxesSubplot:title={'center':'diag_2'}>,\n",
       "        <AxesSubplot:title={'center':'diag_3'}>],\n",
       "       [<AxesSubplot:title={'center':'number_diagnoses'}>,\n",
       "        <AxesSubplot:title={'center':'max_glu_serum'}>,\n",
       "        <AxesSubplot:title={'center':'A1Cresult'}>,\n",
       "        <AxesSubplot:title={'center':'change'}>,\n",
       "        <AxesSubplot:title={'center':'diabetesMed'}>],\n",
       "       [<AxesSubplot:title={'center':\"('AfricanAmerican',)\"}>,\n",
       "        <AxesSubplot:title={'center':\"('Asian',)\"}>,\n",
       "        <AxesSubplot:title={'center':\"('Caucasian',)\"}>,\n",
       "        <AxesSubplot:title={'center':\"('Hispanic',)\"}>,\n",
       "        <AxesSubplot:title={'center':\"('Other',)\"}>],\n",
       "       [<AxesSubplot:title={'center':\"('null',)\"}>,\n",
       "        <AxesSubplot:title={'center':\"('Female',)\"}>,\n",
       "        <AxesSubplot:title={'center':\"('Male',)\"}>,\n",
       "        <AxesSubplot:title={'center':\"('Unknown/Invalid',)\"}>,\n",
       "        <AxesSubplot:title={'center':\"('Down',)\"}>],\n",
       "       [<AxesSubplot:title={'center':\"('No',)\"}>,\n",
       "        <AxesSubplot:title={'center':\"('Steady',)\"}>,\n",
       "        <AxesSubplot:title={'center':\"('Up',)\"}>, <AxesSubplot:>,\n",
       "        <AxesSubplot:>]], dtype=object)"
      ]
     },
     "execution_count": 64,
     "metadata": {},
     "output_type": "execute_result"
    },
    {
     "data": {
      "image/png": "[encoded data removed]",
      "text/plain": [
       "<Figure size 3600x2520 with 25 Axes>"
      ]
     },
     "metadata": {
      "needs_background": "light"
     },
     "output_type": "display_data"
    }
   ],
   "source": [
    "df.hist(bins=50,figsize=(50,35))"
   ]
  },
  {
   "cell_type": "markdown",
   "id": "6fc157fe",
   "metadata": {},
   "source": [
    "## Train Test Splitting"
   ]
  },
  {
   "cell_type": "code",
   "execution_count": 65,
   "id": "a06dc3d7",
   "metadata": {},
   "outputs": [],
   "source": [
    "from sklearn.model_selection import train_test_split"
   ]
  },
  {
   "cell_type": "code",
   "execution_count": 66,
   "id": "95af8772",
   "metadata": {},
   "outputs": [],
   "source": [
    "train_set,test_set = train_test_split(df,test_size=0.2,random_state=42)"
   ]
  },
  {
   "cell_type": "code",
   "execution_count": 67,
   "id": "5ce1e84c",
   "metadata": {},
   "outputs": [
    {
     "name": "stdout",
     "output_type": "stream",
     "text": [
      "Rows in train set:81412\n",
      " Rows in test set:20354\n",
      "\n"
     ]
    }
   ],
   "source": [
    "print(f\"Rows in train set:{len(train_set)}\\n Rows in test set:{len(test_set)}\\n\")"
   ]
  },
  {
   "cell_type": "code",
   "execution_count": 68,
   "id": "5ef2576e",
   "metadata": {},
   "outputs": [],
   "source": [
    "#equal distribution of class(0,1)-----------using Stratified Sampling"
   ]
  },
  {
   "cell_type": "code",
   "execution_count": 69,
   "id": "34df82d5",
   "metadata": {},
   "outputs": [],
   "source": [
    "from sklearn.model_selection import StratifiedShuffleSplit"
   ]
  },
  {
   "cell_type": "code",
   "execution_count": 70,
   "id": "46ff7fa0",
   "metadata": {},
   "outputs": [],
   "source": [
    "split= StratifiedShuffleSplit(n_splits=1,test_size=0.2,random_state=42)"
   ]
  },
  {
   "cell_type": "code",
   "execution_count": 71,
   "id": "8b5bec11",
   "metadata": {},
   "outputs": [],
   "source": [
    "for train_index,test_index in split.split(df,df['diabetesMed']):\n",
    "    strat_train_set= df.loc[train_index]\n",
    "    strat_test_set= df.loc[test_index]"
   ]
  },
  {
   "cell_type": "code",
   "execution_count": 72,
   "id": "67162212",
   "metadata": {},
   "outputs": [],
   "source": [
    "for train_index,test_index in split.split(df,df['change']):\n",
    "    strat_train_set= df.loc[train_index]\n",
    "    strat_test_set= df.loc[test_index]"
   ]
  },
  {
   "cell_type": "code",
   "execution_count": 73,
   "id": "e06315d7",
   "metadata": {},
   "outputs": [
    {
     "data": {
      "text/html": [
       "<div>\n",
       "<style scoped>\n",
       "    .dataframe tbody tr th:only-of-type {\n",
       "        vertical-align: middle;\n",
       "    }\n",
       "\n",
       "    .dataframe tbody tr th {\n",
       "        vertical-align: top;\n",
       "    }\n",
       "\n",
       "    .dataframe thead th {\n",
       "        text-align: right;\n",
       "    }\n",
       "</style>\n",
       "<table border=\"1\" class=\"dataframe\">\n",
       "  <thead>\n",
       "    <tr style=\"text-align: right;\">\n",
       "      <th></th>\n",
       "      <th>age</th>\n",
       "      <th>weight</th>\n",
       "      <th>diag_1</th>\n",
       "      <th>diag_2</th>\n",
       "      <th>diag_3</th>\n",
       "      <th>number_diagnoses</th>\n",
       "      <th>max_glu_serum</th>\n",
       "      <th>A1Cresult</th>\n",
       "      <th>change</th>\n",
       "      <th>diabetesMed</th>\n",
       "      <th>...</th>\n",
       "      <th>(Hispanic,)</th>\n",
       "      <th>(Other,)</th>\n",
       "      <th>(null,)</th>\n",
       "      <th>(Female,)</th>\n",
       "      <th>(Male,)</th>\n",
       "      <th>(Unknown/Invalid,)</th>\n",
       "      <th>(Down,)</th>\n",
       "      <th>(No,)</th>\n",
       "      <th>(Steady,)</th>\n",
       "      <th>(Up,)</th>\n",
       "    </tr>\n",
       "  </thead>\n",
       "  <tbody>\n",
       "    <tr>\n",
       "      <th>17917</th>\n",
       "      <td>0</td>\n",
       "      <td>0</td>\n",
       "      <td>277.0</td>\n",
       "      <td>483.00</td>\n",
       "      <td>466.0</td>\n",
       "      <td>5</td>\n",
       "      <td>0</td>\n",
       "      <td>1</td>\n",
       "      <td>0</td>\n",
       "      <td>0</td>\n",
       "      <td>...</td>\n",
       "      <td>0.0</td>\n",
       "      <td>0.0</td>\n",
       "      <td>0.0</td>\n",
       "      <td>0.0</td>\n",
       "      <td>1.0</td>\n",
       "      <td>0.0</td>\n",
       "      <td>0.0</td>\n",
       "      <td>0.0</td>\n",
       "      <td>1.0</td>\n",
       "      <td>0.0</td>\n",
       "    </tr>\n",
       "    <tr>\n",
       "      <th>76349</th>\n",
       "      <td>1</td>\n",
       "      <td>0</td>\n",
       "      <td>584.0</td>\n",
       "      <td>250.42</td>\n",
       "      <td>728.0</td>\n",
       "      <td>9</td>\n",
       "      <td>0</td>\n",
       "      <td>8</td>\n",
       "      <td>1</td>\n",
       "      <td>0</td>\n",
       "      <td>...</td>\n",
       "      <td>0.0</td>\n",
       "      <td>0.0</td>\n",
       "      <td>0.0</td>\n",
       "      <td>0.0</td>\n",
       "      <td>1.0</td>\n",
       "      <td>0.0</td>\n",
       "      <td>1.0</td>\n",
       "      <td>0.0</td>\n",
       "      <td>0.0</td>\n",
       "      <td>0.0</td>\n",
       "    </tr>\n",
       "    <tr>\n",
       "      <th>57447</th>\n",
       "      <td>2</td>\n",
       "      <td>0</td>\n",
       "      <td>410.0</td>\n",
       "      <td>428.00</td>\n",
       "      <td>403.0</td>\n",
       "      <td>9</td>\n",
       "      <td>0</td>\n",
       "      <td>0</td>\n",
       "      <td>1</td>\n",
       "      <td>0</td>\n",
       "      <td>...</td>\n",
       "      <td>0.0</td>\n",
       "      <td>0.0</td>\n",
       "      <td>0.0</td>\n",
       "      <td>0.0</td>\n",
       "      <td>1.0</td>\n",
       "      <td>0.0</td>\n",
       "      <td>0.0</td>\n",
       "      <td>0.0</td>\n",
       "      <td>1.0</td>\n",
       "      <td>0.0</td>\n",
       "    </tr>\n",
       "    <tr>\n",
       "      <th>2344</th>\n",
       "      <td>2</td>\n",
       "      <td>0</td>\n",
       "      <td>38.0</td>\n",
       "      <td>436.00</td>\n",
       "      <td>428.0</td>\n",
       "      <td>8</td>\n",
       "      <td>0</td>\n",
       "      <td>0</td>\n",
       "      <td>0</td>\n",
       "      <td>0</td>\n",
       "      <td>...</td>\n",
       "      <td>0.0</td>\n",
       "      <td>0.0</td>\n",
       "      <td>0.0</td>\n",
       "      <td>1.0</td>\n",
       "      <td>0.0</td>\n",
       "      <td>0.0</td>\n",
       "      <td>0.0</td>\n",
       "      <td>0.0</td>\n",
       "      <td>1.0</td>\n",
       "      <td>0.0</td>\n",
       "    </tr>\n",
       "    <tr>\n",
       "      <th>96081</th>\n",
       "      <td>2</td>\n",
       "      <td>0</td>\n",
       "      <td>570.0</td>\n",
       "      <td>584.00</td>\n",
       "      <td>276.0</td>\n",
       "      <td>9</td>\n",
       "      <td>0</td>\n",
       "      <td>0</td>\n",
       "      <td>0</td>\n",
       "      <td>1</td>\n",
       "      <td>...</td>\n",
       "      <td>0.0</td>\n",
       "      <td>0.0</td>\n",
       "      <td>0.0</td>\n",
       "      <td>0.0</td>\n",
       "      <td>1.0</td>\n",
       "      <td>0.0</td>\n",
       "      <td>0.0</td>\n",
       "      <td>1.0</td>\n",
       "      <td>0.0</td>\n",
       "      <td>0.0</td>\n",
       "    </tr>\n",
       "    <tr>\n",
       "      <th>...</th>\n",
       "      <td>...</td>\n",
       "      <td>...</td>\n",
       "      <td>...</td>\n",
       "      <td>...</td>\n",
       "      <td>...</td>\n",
       "      <td>...</td>\n",
       "      <td>...</td>\n",
       "      <td>...</td>\n",
       "      <td>...</td>\n",
       "      <td>...</td>\n",
       "      <td>...</td>\n",
       "      <td>...</td>\n",
       "      <td>...</td>\n",
       "      <td>...</td>\n",
       "      <td>...</td>\n",
       "      <td>...</td>\n",
       "      <td>...</td>\n",
       "      <td>...</td>\n",
       "      <td>...</td>\n",
       "      <td>...</td>\n",
       "      <td>...</td>\n",
       "    </tr>\n",
       "    <tr>\n",
       "      <th>86197</th>\n",
       "      <td>2</td>\n",
       "      <td>0</td>\n",
       "      <td>584.0</td>\n",
       "      <td>491.00</td>\n",
       "      <td>276.0</td>\n",
       "      <td>9</td>\n",
       "      <td>0</td>\n",
       "      <td>0</td>\n",
       "      <td>0</td>\n",
       "      <td>0</td>\n",
       "      <td>...</td>\n",
       "      <td>0.0</td>\n",
       "      <td>0.0</td>\n",
       "      <td>0.0</td>\n",
       "      <td>1.0</td>\n",
       "      <td>0.0</td>\n",
       "      <td>0.0</td>\n",
       "      <td>0.0</td>\n",
       "      <td>1.0</td>\n",
       "      <td>0.0</td>\n",
       "      <td>0.0</td>\n",
       "    </tr>\n",
       "    <tr>\n",
       "      <th>6687</th>\n",
       "      <td>2</td>\n",
       "      <td>0</td>\n",
       "      <td>550.0</td>\n",
       "      <td>569.00</td>\n",
       "      <td>567.0</td>\n",
       "      <td>9</td>\n",
       "      <td>0</td>\n",
       "      <td>0</td>\n",
       "      <td>0</td>\n",
       "      <td>0</td>\n",
       "      <td>...</td>\n",
       "      <td>0.0</td>\n",
       "      <td>0.0</td>\n",
       "      <td>0.0</td>\n",
       "      <td>0.0</td>\n",
       "      <td>1.0</td>\n",
       "      <td>0.0</td>\n",
       "      <td>0.0</td>\n",
       "      <td>1.0</td>\n",
       "      <td>0.0</td>\n",
       "      <td>0.0</td>\n",
       "    </tr>\n",
       "    <tr>\n",
       "      <th>88848</th>\n",
       "      <td>1</td>\n",
       "      <td>0</td>\n",
       "      <td>440.0</td>\n",
       "      <td>414.00</td>\n",
       "      <td>45.0</td>\n",
       "      <td>9</td>\n",
       "      <td>0</td>\n",
       "      <td>0</td>\n",
       "      <td>0</td>\n",
       "      <td>1</td>\n",
       "      <td>...</td>\n",
       "      <td>0.0</td>\n",
       "      <td>0.0</td>\n",
       "      <td>0.0</td>\n",
       "      <td>0.0</td>\n",
       "      <td>1.0</td>\n",
       "      <td>0.0</td>\n",
       "      <td>0.0</td>\n",
       "      <td>1.0</td>\n",
       "      <td>0.0</td>\n",
       "      <td>0.0</td>\n",
       "    </tr>\n",
       "    <tr>\n",
       "      <th>81524</th>\n",
       "      <td>2</td>\n",
       "      <td>0</td>\n",
       "      <td>428.0</td>\n",
       "      <td>585.00</td>\n",
       "      <td>496.0</td>\n",
       "      <td>8</td>\n",
       "      <td>0</td>\n",
       "      <td>0</td>\n",
       "      <td>1</td>\n",
       "      <td>0</td>\n",
       "      <td>...</td>\n",
       "      <td>0.0</td>\n",
       "      <td>0.0</td>\n",
       "      <td>0.0</td>\n",
       "      <td>1.0</td>\n",
       "      <td>0.0</td>\n",
       "      <td>0.0</td>\n",
       "      <td>0.0</td>\n",
       "      <td>1.0</td>\n",
       "      <td>0.0</td>\n",
       "      <td>0.0</td>\n",
       "    </tr>\n",
       "    <tr>\n",
       "      <th>66116</th>\n",
       "      <td>2</td>\n",
       "      <td>0</td>\n",
       "      <td>518.0</td>\n",
       "      <td>486.00</td>\n",
       "      <td>493.0</td>\n",
       "      <td>9</td>\n",
       "      <td>0</td>\n",
       "      <td>0</td>\n",
       "      <td>1</td>\n",
       "      <td>0</td>\n",
       "      <td>...</td>\n",
       "      <td>0.0</td>\n",
       "      <td>0.0</td>\n",
       "      <td>0.0</td>\n",
       "      <td>1.0</td>\n",
       "      <td>0.0</td>\n",
       "      <td>0.0</td>\n",
       "      <td>0.0</td>\n",
       "      <td>0.0</td>\n",
       "      <td>0.0</td>\n",
       "      <td>1.0</td>\n",
       "    </tr>\n",
       "  </tbody>\n",
       "</table>\n",
       "<p>20354 rows × 23 columns</p>\n",
       "</div>"
      ],
      "text/plain": [
       "       age  weight  diag_1  diag_2  diag_3  number_diagnoses  max_glu_serum  \\\n",
       "17917    0       0   277.0  483.00   466.0                 5              0   \n",
       "76349    1       0   584.0  250.42   728.0                 9              0   \n",
       "57447    2       0   410.0  428.00   403.0                 9              0   \n",
       "2344     2       0    38.0  436.00   428.0                 8              0   \n",
       "96081    2       0   570.0  584.00   276.0                 9              0   \n",
       "...    ...     ...     ...     ...     ...               ...            ...   \n",
       "86197    2       0   584.0  491.00   276.0                 9              0   \n",
       "6687     2       0   550.0  569.00   567.0                 9              0   \n",
       "88848    1       0   440.0  414.00    45.0                 9              0   \n",
       "81524    2       0   428.0  585.00   496.0                 8              0   \n",
       "66116    2       0   518.0  486.00   493.0                 9              0   \n",
       "\n",
       "       A1Cresult  change  diabetesMed  ...  (Hispanic,)  (Other,)  (null,)  \\\n",
       "17917          1       0            0  ...          0.0       0.0      0.0   \n",
       "76349          8       1            0  ...          0.0       0.0      0.0   \n",
       "57447          0       1            0  ...          0.0       0.0      0.0   \n",
       "2344           0       0            0  ...          0.0       0.0      0.0   \n",
       "96081          0       0            1  ...          0.0       0.0      0.0   \n",
       "...          ...     ...          ...  ...          ...       ...      ...   \n",
       "86197          0       0            0  ...          0.0       0.0      0.0   \n",
       "6687           0       0            0  ...          0.0       0.0      0.0   \n",
       "88848          0       0            1  ...          0.0       0.0      0.0   \n",
       "81524          0       1            0  ...          0.0       0.0      0.0   \n",
       "66116          0       1            0  ...          0.0       0.0      0.0   \n",
       "\n",
       "       (Female,)  (Male,)  (Unknown/Invalid,)  (Down,)  (No,)  (Steady,)  \\\n",
       "17917        0.0      1.0                 0.0      0.0    0.0        1.0   \n",
       "76349        0.0      1.0                 0.0      1.0    0.0        0.0   \n",
       "57447        0.0      1.0                 0.0      0.0    0.0        1.0   \n",
       "2344         1.0      0.0                 0.0      0.0    0.0        1.0   \n",
       "96081        0.0      1.0                 0.0      0.0    1.0        0.0   \n",
       "...          ...      ...                 ...      ...    ...        ...   \n",
       "86197        1.0      0.0                 0.0      0.0    1.0        0.0   \n",
       "6687         0.0      1.0                 0.0      0.0    1.0        0.0   \n",
       "88848        0.0      1.0                 0.0      0.0    1.0        0.0   \n",
       "81524        1.0      0.0                 0.0      0.0    1.0        0.0   \n",
       "66116        1.0      0.0                 0.0      0.0    0.0        0.0   \n",
       "\n",
       "       (Up,)  \n",
       "17917    0.0  \n",
       "76349    0.0  \n",
       "57447    0.0  \n",
       "2344     0.0  \n",
       "96081    0.0  \n",
       "...      ...  \n",
       "86197    0.0  \n",
       "6687     0.0  \n",
       "88848    0.0  \n",
       "81524    0.0  \n",
       "66116    1.0  \n",
       "\n",
       "[20354 rows x 23 columns]"
      ]
     },
     "execution_count": 73,
     "metadata": {},
     "output_type": "execute_result"
    }
   ],
   "source": [
    "strat_test_set"
   ]
  },
  {
   "cell_type": "code",
   "execution_count": 74,
   "id": "ae566f12",
   "metadata": {},
   "outputs": [
    {
     "data": {
      "text/html": [
       "<div>\n",
       "<style scoped>\n",
       "    .dataframe tbody tr th:only-of-type {\n",
       "        vertical-align: middle;\n",
       "    }\n",
       "\n",
       "    .dataframe tbody tr th {\n",
       "        vertical-align: top;\n",
       "    }\n",
       "\n",
       "    .dataframe thead th {\n",
       "        text-align: right;\n",
       "    }\n",
       "</style>\n",
       "<table border=\"1\" class=\"dataframe\">\n",
       "  <thead>\n",
       "    <tr style=\"text-align: right;\">\n",
       "      <th></th>\n",
       "      <th>age</th>\n",
       "      <th>weight</th>\n",
       "      <th>diag_1</th>\n",
       "      <th>diag_2</th>\n",
       "      <th>diag_3</th>\n",
       "      <th>number_diagnoses</th>\n",
       "      <th>max_glu_serum</th>\n",
       "      <th>A1Cresult</th>\n",
       "      <th>change</th>\n",
       "      <th>diabetesMed</th>\n",
       "      <th>...</th>\n",
       "      <th>(Hispanic,)</th>\n",
       "      <th>(Other,)</th>\n",
       "      <th>(null,)</th>\n",
       "      <th>(Female,)</th>\n",
       "      <th>(Male,)</th>\n",
       "      <th>(Unknown/Invalid,)</th>\n",
       "      <th>(Down,)</th>\n",
       "      <th>(No,)</th>\n",
       "      <th>(Steady,)</th>\n",
       "      <th>(Up,)</th>\n",
       "    </tr>\n",
       "  </thead>\n",
       "  <tbody>\n",
       "    <tr>\n",
       "      <th>count</th>\n",
       "      <td>20354.000000</td>\n",
       "      <td>20354.000000</td>\n",
       "      <td>20354.000000</td>\n",
       "      <td>20354.000000</td>\n",
       "      <td>20354.000000</td>\n",
       "      <td>20354.000000</td>\n",
       "      <td>20354.000000</td>\n",
       "      <td>20354.000000</td>\n",
       "      <td>20354.000000</td>\n",
       "      <td>20354.000000</td>\n",
       "      <td>...</td>\n",
       "      <td>20354.000000</td>\n",
       "      <td>20354.000000</td>\n",
       "      <td>20354.000000</td>\n",
       "      <td>20354.000000</td>\n",
       "      <td>20354.000000</td>\n",
       "      <td>20354.0</td>\n",
       "      <td>20354.000000</td>\n",
       "      <td>20354.000000</td>\n",
       "      <td>20354.000000</td>\n",
       "      <td>20354.000000</td>\n",
       "    </tr>\n",
       "    <tr>\n",
       "      <th>mean</th>\n",
       "      <td>1.653189</td>\n",
       "      <td>0.030756</td>\n",
       "      <td>488.094981</td>\n",
       "      <td>434.300273</td>\n",
       "      <td>402.751301</td>\n",
       "      <td>7.411369</td>\n",
       "      <td>6.771544</td>\n",
       "      <td>0.954407</td>\n",
       "      <td>0.461973</td>\n",
       "      <td>0.227965</td>\n",
       "      <td>...</td>\n",
       "      <td>0.019996</td>\n",
       "      <td>0.014346</td>\n",
       "      <td>0.022403</td>\n",
       "      <td>0.543972</td>\n",
       "      <td>0.456028</td>\n",
       "      <td>0.0</td>\n",
       "      <td>0.119829</td>\n",
       "      <td>0.461236</td>\n",
       "      <td>0.303921</td>\n",
       "      <td>0.115014</td>\n",
       "    </tr>\n",
       "    <tr>\n",
       "      <th>std</th>\n",
       "      <td>0.524207</td>\n",
       "      <td>0.182616</td>\n",
       "      <td>212.009207</td>\n",
       "      <td>189.151048</td>\n",
       "      <td>199.746557</td>\n",
       "      <td>1.945565</td>\n",
       "      <td>40.725753</td>\n",
       "      <td>2.474433</td>\n",
       "      <td>0.498564</td>\n",
       "      <td>0.419530</td>\n",
       "      <td>...</td>\n",
       "      <td>0.139990</td>\n",
       "      <td>0.118916</td>\n",
       "      <td>0.147995</td>\n",
       "      <td>0.498075</td>\n",
       "      <td>0.498075</td>\n",
       "      <td>0.0</td>\n",
       "      <td>0.324769</td>\n",
       "      <td>0.498507</td>\n",
       "      <td>0.459960</td>\n",
       "      <td>0.319047</td>\n",
       "    </tr>\n",
       "    <tr>\n",
       "      <th>min</th>\n",
       "      <td>0.000000</td>\n",
       "      <td>0.000000</td>\n",
       "      <td>0.000000</td>\n",
       "      <td>0.000000</td>\n",
       "      <td>0.000000</td>\n",
       "      <td>1.000000</td>\n",
       "      <td>0.000000</td>\n",
       "      <td>0.000000</td>\n",
       "      <td>0.000000</td>\n",
       "      <td>0.000000</td>\n",
       "      <td>...</td>\n",
       "      <td>0.000000</td>\n",
       "      <td>0.000000</td>\n",
       "      <td>0.000000</td>\n",
       "      <td>0.000000</td>\n",
       "      <td>0.000000</td>\n",
       "      <td>0.0</td>\n",
       "      <td>0.000000</td>\n",
       "      <td>0.000000</td>\n",
       "      <td>0.000000</td>\n",
       "      <td>0.000000</td>\n",
       "    </tr>\n",
       "    <tr>\n",
       "      <th>25%</th>\n",
       "      <td>1.000000</td>\n",
       "      <td>0.000000</td>\n",
       "      <td>410.000000</td>\n",
       "      <td>276.000000</td>\n",
       "      <td>250.600000</td>\n",
       "      <td>6.000000</td>\n",
       "      <td>0.000000</td>\n",
       "      <td>0.000000</td>\n",
       "      <td>0.000000</td>\n",
       "      <td>0.000000</td>\n",
       "      <td>...</td>\n",
       "      <td>0.000000</td>\n",
       "      <td>0.000000</td>\n",
       "      <td>0.000000</td>\n",
       "      <td>0.000000</td>\n",
       "      <td>0.000000</td>\n",
       "      <td>0.0</td>\n",
       "      <td>0.000000</td>\n",
       "      <td>0.000000</td>\n",
       "      <td>0.000000</td>\n",
       "      <td>0.000000</td>\n",
       "    </tr>\n",
       "    <tr>\n",
       "      <th>50%</th>\n",
       "      <td>2.000000</td>\n",
       "      <td>0.000000</td>\n",
       "      <td>435.000000</td>\n",
       "      <td>425.000000</td>\n",
       "      <td>401.000000</td>\n",
       "      <td>8.000000</td>\n",
       "      <td>0.000000</td>\n",
       "      <td>0.000000</td>\n",
       "      <td>0.000000</td>\n",
       "      <td>0.000000</td>\n",
       "      <td>...</td>\n",
       "      <td>0.000000</td>\n",
       "      <td>0.000000</td>\n",
       "      <td>0.000000</td>\n",
       "      <td>1.000000</td>\n",
       "      <td>0.000000</td>\n",
       "      <td>0.0</td>\n",
       "      <td>0.000000</td>\n",
       "      <td>0.000000</td>\n",
       "      <td>0.000000</td>\n",
       "      <td>0.000000</td>\n",
       "    </tr>\n",
       "    <tr>\n",
       "      <th>75%</th>\n",
       "      <td>2.000000</td>\n",
       "      <td>0.000000</td>\n",
       "      <td>595.000000</td>\n",
       "      <td>535.000000</td>\n",
       "      <td>496.000000</td>\n",
       "      <td>9.000000</td>\n",
       "      <td>0.000000</td>\n",
       "      <td>0.000000</td>\n",
       "      <td>1.000000</td>\n",
       "      <td>0.000000</td>\n",
       "      <td>...</td>\n",
       "      <td>0.000000</td>\n",
       "      <td>0.000000</td>\n",
       "      <td>0.000000</td>\n",
       "      <td>1.000000</td>\n",
       "      <td>1.000000</td>\n",
       "      <td>0.0</td>\n",
       "      <td>0.000000</td>\n",
       "      <td>1.000000</td>\n",
       "      <td>1.000000</td>\n",
       "      <td>0.000000</td>\n",
       "    </tr>\n",
       "    <tr>\n",
       "      <th>max</th>\n",
       "      <td>2.000000</td>\n",
       "      <td>3.000000</td>\n",
       "      <td>999.000000</td>\n",
       "      <td>999.000000</td>\n",
       "      <td>999.000000</td>\n",
       "      <td>16.000000</td>\n",
       "      <td>300.000000</td>\n",
       "      <td>8.000000</td>\n",
       "      <td>1.000000</td>\n",
       "      <td>1.000000</td>\n",
       "      <td>...</td>\n",
       "      <td>1.000000</td>\n",
       "      <td>1.000000</td>\n",
       "      <td>1.000000</td>\n",
       "      <td>1.000000</td>\n",
       "      <td>1.000000</td>\n",
       "      <td>0.0</td>\n",
       "      <td>1.000000</td>\n",
       "      <td>1.000000</td>\n",
       "      <td>1.000000</td>\n",
       "      <td>1.000000</td>\n",
       "    </tr>\n",
       "  </tbody>\n",
       "</table>\n",
       "<p>8 rows × 23 columns</p>\n",
       "</div>"
      ],
      "text/plain": [
       "                age        weight        diag_1        diag_2        diag_3  \\\n",
       "count  20354.000000  20354.000000  20354.000000  20354.000000  20354.000000   \n",
       "mean       1.653189      0.030756    488.094981    434.300273    402.751301   \n",
       "std        0.524207      0.182616    212.009207    189.151048    199.746557   \n",
       "min        0.000000      0.000000      0.000000      0.000000      0.000000   \n",
       "25%        1.000000      0.000000    410.000000    276.000000    250.600000   \n",
       "50%        2.000000      0.000000    435.000000    425.000000    401.000000   \n",
       "75%        2.000000      0.000000    595.000000    535.000000    496.000000   \n",
       "max        2.000000      3.000000    999.000000    999.000000    999.000000   \n",
       "\n",
       "       number_diagnoses  max_glu_serum     A1Cresult        change  \\\n",
       "count      20354.000000   20354.000000  20354.000000  20354.000000   \n",
       "mean           7.411369       6.771544      0.954407      0.461973   \n",
       "std            1.945565      40.725753      2.474433      0.498564   \n",
       "min            1.000000       0.000000      0.000000      0.000000   \n",
       "25%            6.000000       0.000000      0.000000      0.000000   \n",
       "50%            8.000000       0.000000      0.000000      0.000000   \n",
       "75%            9.000000       0.000000      0.000000      1.000000   \n",
       "max           16.000000     300.000000      8.000000      1.000000   \n",
       "\n",
       "        diabetesMed  ...   (Hispanic,)      (Other,)       (null,)  \\\n",
       "count  20354.000000  ...  20354.000000  20354.000000  20354.000000   \n",
       "mean       0.227965  ...      0.019996      0.014346      0.022403   \n",
       "std        0.419530  ...      0.139990      0.118916      0.147995   \n",
       "min        0.000000  ...      0.000000      0.000000      0.000000   \n",
       "25%        0.000000  ...      0.000000      0.000000      0.000000   \n",
       "50%        0.000000  ...      0.000000      0.000000      0.000000   \n",
       "75%        0.000000  ...      0.000000      0.000000      0.000000   \n",
       "max        1.000000  ...      1.000000      1.000000      1.000000   \n",
       "\n",
       "          (Female,)       (Male,)  (Unknown/Invalid,)       (Down,)  \\\n",
       "count  20354.000000  20354.000000             20354.0  20354.000000   \n",
       "mean       0.543972      0.456028                 0.0      0.119829   \n",
       "std        0.498075      0.498075                 0.0      0.324769   \n",
       "min        0.000000      0.000000                 0.0      0.000000   \n",
       "25%        0.000000      0.000000                 0.0      0.000000   \n",
       "50%        1.000000      0.000000                 0.0      0.000000   \n",
       "75%        1.000000      1.000000                 0.0      0.000000   \n",
       "max        1.000000      1.000000                 0.0      1.000000   \n",
       "\n",
       "              (No,)     (Steady,)         (Up,)  \n",
       "count  20354.000000  20354.000000  20354.000000  \n",
       "mean       0.461236      0.303921      0.115014  \n",
       "std        0.498507      0.459960      0.319047  \n",
       "min        0.000000      0.000000      0.000000  \n",
       "25%        0.000000      0.000000      0.000000  \n",
       "50%        0.000000      0.000000      0.000000  \n",
       "75%        1.000000      1.000000      0.000000  \n",
       "max        1.000000      1.000000      1.000000  \n",
       "\n",
       "[8 rows x 23 columns]"
      ]
     },
     "execution_count": 74,
     "metadata": {},
     "output_type": "execute_result"
    }
   ],
   "source": [
    "strat_test_set.describe()"
   ]
  },
  {
   "cell_type": "code",
   "execution_count": 75,
   "id": "cab87caa",
   "metadata": {},
   "outputs": [
    {
     "data": {
      "text/plain": [
       "0    15714\n",
       "1     4640\n",
       "Name: diabetesMed, dtype: int64"
      ]
     },
     "execution_count": 75,
     "metadata": {},
     "output_type": "execute_result"
    }
   ],
   "source": [
    "strat_test_set['diabetesMed'].value_counts()"
   ]
  },
  {
   "cell_type": "code",
   "execution_count": 76,
   "id": "3257fe74",
   "metadata": {},
   "outputs": [
    {
     "data": {
      "text/plain": [
       "0    62649\n",
       "1    18763\n",
       "Name: diabetesMed, dtype: int64"
      ]
     },
     "execution_count": 76,
     "metadata": {},
     "output_type": "execute_result"
    }
   ],
   "source": [
    "strat_train_set['diabetesMed'].value_counts()"
   ]
  },
  {
   "cell_type": "code",
   "execution_count": 77,
   "id": "929a761b",
   "metadata": {},
   "outputs": [
    {
     "data": {
      "text/plain": [
       "0    10951\n",
       "1     9403\n",
       "Name: change, dtype: int64"
      ]
     },
     "execution_count": 77,
     "metadata": {},
     "output_type": "execute_result"
    }
   ],
   "source": [
    "strat_test_set['change'].value_counts()"
   ]
  },
  {
   "cell_type": "code",
   "execution_count": 78,
   "id": "9764811c",
   "metadata": {},
   "outputs": [
    {
     "data": {
      "text/plain": [
       "0    43804\n",
       "1    37608\n",
       "Name: change, dtype: int64"
      ]
     },
     "execution_count": 78,
     "metadata": {},
     "output_type": "execute_result"
    }
   ],
   "source": [
    "strat_train_set['change'].value_counts()"
   ]
  },
  {
   "cell_type": "code",
   "execution_count": 79,
   "id": "96249cc6",
   "metadata": {},
   "outputs": [],
   "source": [
    "df = strat_train_set.copy()"
   ]
  },
  {
   "cell_type": "markdown",
   "id": "f4da307f",
   "metadata": {},
   "source": [
    "## Correlations"
   ]
  },
  {
   "cell_type": "code",
   "execution_count": 80,
   "id": "0baa4226",
   "metadata": {},
   "outputs": [],
   "source": [
    "# df.corr().T"
   ]
  },
  {
   "cell_type": "code",
   "execution_count": 81,
   "id": "db7f7118",
   "metadata": {},
   "outputs": [],
   "source": [
    "corr_matrix = df.corr() # checking class correlations with other independent features."
   ]
  },
  {
   "cell_type": "code",
   "execution_count": 82,
   "id": "994aba37",
   "metadata": {},
   "outputs": [
    {
     "data": {
      "text/plain": [
       "diabetesMed           1.000000\n",
       "(No,)                 0.585007\n",
       "weight                0.029452\n",
       "diag_1                0.022153\n",
       "(Female,)             0.017500\n",
       "diag_2                0.008566\n",
       "age                   0.007511\n",
       "(Asian,)              0.007105\n",
       "(Caucasian,)          0.005424\n",
       "diag_3                0.004546\n",
       "(AfricanAmerican,)    0.002159\n",
       "(Hispanic,)           0.002152\n",
       "(Unknown/Invalid,)    0.001483\n",
       "(Other,)             -0.011741\n",
       "(Male,)              -0.017518\n",
       "(null,)              -0.017921\n",
       "max_glu_serum        -0.018686\n",
       "number_diagnoses     -0.020986\n",
       "A1Cresult            -0.089540\n",
       "(Up,)                -0.192633\n",
       "(Down,)              -0.202202\n",
       "(Steady,)            -0.360776\n",
       "change               -0.507081\n",
       "Name: diabetesMed, dtype: float64"
      ]
     },
     "execution_count": 82,
     "metadata": {},
     "output_type": "execute_result"
    }
   ],
   "source": [
    "corr_matrix['diabetesMed'].sort_values(ascending=False)"
   ]
  },
  {
   "cell_type": "code",
   "execution_count": 83,
   "id": "c1ae09af",
   "metadata": {},
   "outputs": [
    {
     "data": {
      "text/plain": [
       "Index([               'age',             'weight',             'diag_1',\n",
       "                   'diag_2',             'diag_3',   'number_diagnoses',\n",
       "            'max_glu_serum',          'A1Cresult',             'change',\n",
       "              'diabetesMed', ('AfricanAmerican',),           ('Asian',),\n",
       "             ('Caucasian',),        ('Hispanic',),           ('Other',),\n",
       "                  ('null',),          ('Female',),            ('Male',),\n",
       "       ('Unknown/Invalid',),            ('Down',),              ('No',),\n",
       "                ('Steady',),              ('Up',)],\n",
       "      dtype='object')"
      ]
     },
     "execution_count": 83,
     "metadata": {},
     "output_type": "execute_result"
    }
   ],
   "source": [
    "df.columns"
   ]
  },
  {
   "cell_type": "markdown",
   "id": "a4cec837",
   "metadata": {},
   "source": [
    "## Plotting Graphs"
   ]
  },
  {
   "cell_type": "code",
   "execution_count": 84,
   "id": "0196f176",
   "metadata": {},
   "outputs": [],
   "source": [
    "from pandas.plotting import scatter_matrix\n",
    "attributes = [\"diabetesMed\",\"change\",\"weight\"]"
   ]
  },
  {
   "cell_type": "code",
   "execution_count": 85,
   "id": "12398fb8",
   "metadata": {},
   "outputs": [
    {
     "data": {
      "text/plain": [
       "array([[<AxesSubplot:xlabel='diabetesMed', ylabel='diabetesMed'>,\n",
       "        <AxesSubplot:xlabel='change', ylabel='diabetesMed'>,\n",
       "        <AxesSubplot:xlabel='weight', ylabel='diabetesMed'>],\n",
       "       [<AxesSubplot:xlabel='diabetesMed', ylabel='change'>,\n",
       "        <AxesSubplot:xlabel='change', ylabel='change'>,\n",
       "        <AxesSubplot:xlabel='weight', ylabel='change'>],\n",
       "       [<AxesSubplot:xlabel='diabetesMed', ylabel='weight'>,\n",
       "        <AxesSubplot:xlabel='change', ylabel='weight'>,\n",
       "        <AxesSubplot:xlabel='weight', ylabel='weight'>]], dtype=object)"
      ]
     },
     "execution_count": 85,
     "metadata": {},
     "output_type": "execute_result"
    },
    {
     "data": {
      "image/png": "[encoded data removed]",
      "text/plain": [
       "<Figure size 864x576 with 9 Axes>"
      ]
     },
     "metadata": {
      "needs_background": "light"
     },
     "output_type": "display_data"
    }
   ],
   "source": [
    "scatter_matrix(df[attributes],figsize=(12,8))"
   ]
  },
  {
   "cell_type": "markdown",
   "id": "2de96dee",
   "metadata": {},
   "source": [
    "## Plotting Graph between two relations"
   ]
  },
  {
   "cell_type": "code",
   "execution_count": 86,
   "id": "c71ba1f5",
   "metadata": {},
   "outputs": [],
   "source": [
    "#df.plot(kind=\"scatter\",x=\"Amount\",y=\"Time\",alpha=0.8)"
   ]
  },
  {
   "cell_type": "markdown",
   "id": "3b6a5ad4",
   "metadata": {},
   "source": [
    "### Splitting Features and Labels"
   ]
  },
  {
   "cell_type": "code",
   "execution_count": 87,
   "id": "f6a1d916",
   "metadata": {},
   "outputs": [],
   "source": [
    "df= strat_train_set.drop(\"diabetesMed\",axis=1)\n",
    "df_labels = strat_train_set[\"diabetesMed\"].copy()"
   ]
  },
  {
   "cell_type": "code",
   "execution_count": 88,
   "id": "8466e321",
   "metadata": {},
   "outputs": [
    {
     "data": {
      "text/html": [
       "<div>\n",
       "<style scoped>\n",
       "    .dataframe tbody tr th:only-of-type {\n",
       "        vertical-align: middle;\n",
       "    }\n",
       "\n",
       "    .dataframe tbody tr th {\n",
       "        vertical-align: top;\n",
       "    }\n",
       "\n",
       "    .dataframe thead th {\n",
       "        text-align: right;\n",
       "    }\n",
       "</style>\n",
       "<table border=\"1\" class=\"dataframe\">\n",
       "  <thead>\n",
       "    <tr style=\"text-align: right;\">\n",
       "      <th></th>\n",
       "      <th>age</th>\n",
       "      <th>weight</th>\n",
       "      <th>diag_1</th>\n",
       "      <th>diag_2</th>\n",
       "      <th>diag_3</th>\n",
       "      <th>number_diagnoses</th>\n",
       "      <th>max_glu_serum</th>\n",
       "      <th>A1Cresult</th>\n",
       "      <th>change</th>\n",
       "      <th>(AfricanAmerican,)</th>\n",
       "      <th>...</th>\n",
       "      <th>(Hispanic,)</th>\n",
       "      <th>(Other,)</th>\n",
       "      <th>(null,)</th>\n",
       "      <th>(Female,)</th>\n",
       "      <th>(Male,)</th>\n",
       "      <th>(Unknown/Invalid,)</th>\n",
       "      <th>(Down,)</th>\n",
       "      <th>(No,)</th>\n",
       "      <th>(Steady,)</th>\n",
       "      <th>(Up,)</th>\n",
       "    </tr>\n",
       "  </thead>\n",
       "  <tbody>\n",
       "    <tr>\n",
       "      <th>34366</th>\n",
       "      <td>2</td>\n",
       "      <td>0</td>\n",
       "      <td>38.0</td>\n",
       "      <td>276.00</td>\n",
       "      <td>518.00</td>\n",
       "      <td>6</td>\n",
       "      <td>0</td>\n",
       "      <td>8</td>\n",
       "      <td>1</td>\n",
       "      <td>0.0</td>\n",
       "      <td>...</td>\n",
       "      <td>0.0</td>\n",
       "      <td>0.0</td>\n",
       "      <td>0.0</td>\n",
       "      <td>1.0</td>\n",
       "      <td>0.0</td>\n",
       "      <td>0.0</td>\n",
       "      <td>0.0</td>\n",
       "      <td>0.0</td>\n",
       "      <td>1.0</td>\n",
       "      <td>0.0</td>\n",
       "    </tr>\n",
       "    <tr>\n",
       "      <th>16373</th>\n",
       "      <td>2</td>\n",
       "      <td>0</td>\n",
       "      <td>410.0</td>\n",
       "      <td>250.01</td>\n",
       "      <td>414.00</td>\n",
       "      <td>6</td>\n",
       "      <td>300</td>\n",
       "      <td>0</td>\n",
       "      <td>1</td>\n",
       "      <td>0.0</td>\n",
       "      <td>...</td>\n",
       "      <td>0.0</td>\n",
       "      <td>0.0</td>\n",
       "      <td>0.0</td>\n",
       "      <td>0.0</td>\n",
       "      <td>1.0</td>\n",
       "      <td>0.0</td>\n",
       "      <td>1.0</td>\n",
       "      <td>0.0</td>\n",
       "      <td>0.0</td>\n",
       "      <td>0.0</td>\n",
       "    </tr>\n",
       "    <tr>\n",
       "      <th>11129</th>\n",
       "      <td>2</td>\n",
       "      <td>0</td>\n",
       "      <td>584.0</td>\n",
       "      <td>414.00</td>\n",
       "      <td>250.00</td>\n",
       "      <td>7</td>\n",
       "      <td>0</td>\n",
       "      <td>0</td>\n",
       "      <td>0</td>\n",
       "      <td>0.0</td>\n",
       "      <td>...</td>\n",
       "      <td>0.0</td>\n",
       "      <td>0.0</td>\n",
       "      <td>0.0</td>\n",
       "      <td>1.0</td>\n",
       "      <td>0.0</td>\n",
       "      <td>0.0</td>\n",
       "      <td>0.0</td>\n",
       "      <td>1.0</td>\n",
       "      <td>0.0</td>\n",
       "      <td>0.0</td>\n",
       "    </tr>\n",
       "    <tr>\n",
       "      <th>75998</th>\n",
       "      <td>1</td>\n",
       "      <td>0</td>\n",
       "      <td>434.0</td>\n",
       "      <td>401.00</td>\n",
       "      <td>250.00</td>\n",
       "      <td>4</td>\n",
       "      <td>0</td>\n",
       "      <td>8</td>\n",
       "      <td>1</td>\n",
       "      <td>0.0</td>\n",
       "      <td>...</td>\n",
       "      <td>0.0</td>\n",
       "      <td>0.0</td>\n",
       "      <td>0.0</td>\n",
       "      <td>0.0</td>\n",
       "      <td>1.0</td>\n",
       "      <td>0.0</td>\n",
       "      <td>1.0</td>\n",
       "      <td>0.0</td>\n",
       "      <td>0.0</td>\n",
       "      <td>0.0</td>\n",
       "    </tr>\n",
       "    <tr>\n",
       "      <th>25752</th>\n",
       "      <td>2</td>\n",
       "      <td>0</td>\n",
       "      <td>491.0</td>\n",
       "      <td>428.00</td>\n",
       "      <td>250.02</td>\n",
       "      <td>9</td>\n",
       "      <td>0</td>\n",
       "      <td>8</td>\n",
       "      <td>1</td>\n",
       "      <td>1.0</td>\n",
       "      <td>...</td>\n",
       "      <td>0.0</td>\n",
       "      <td>0.0</td>\n",
       "      <td>0.0</td>\n",
       "      <td>1.0</td>\n",
       "      <td>0.0</td>\n",
       "      <td>0.0</td>\n",
       "      <td>1.0</td>\n",
       "      <td>0.0</td>\n",
       "      <td>0.0</td>\n",
       "      <td>0.0</td>\n",
       "    </tr>\n",
       "  </tbody>\n",
       "</table>\n",
       "<p>5 rows × 22 columns</p>\n",
       "</div>"
      ],
      "text/plain": [
       "       age  weight  diag_1  diag_2  diag_3  number_diagnoses  max_glu_serum  \\\n",
       "34366    2       0    38.0  276.00  518.00                 6              0   \n",
       "16373    2       0   410.0  250.01  414.00                 6            300   \n",
       "11129    2       0   584.0  414.00  250.00                 7              0   \n",
       "75998    1       0   434.0  401.00  250.00                 4              0   \n",
       "25752    2       0   491.0  428.00  250.02                 9              0   \n",
       "\n",
       "       A1Cresult  change  (AfricanAmerican,)  ...  (Hispanic,)  (Other,)  \\\n",
       "34366          8       1                 0.0  ...          0.0       0.0   \n",
       "16373          0       1                 0.0  ...          0.0       0.0   \n",
       "11129          0       0                 0.0  ...          0.0       0.0   \n",
       "75998          8       1                 0.0  ...          0.0       0.0   \n",
       "25752          8       1                 1.0  ...          0.0       0.0   \n",
       "\n",
       "       (null,)  (Female,)  (Male,)  (Unknown/Invalid,)  (Down,)  (No,)  \\\n",
       "34366      0.0        1.0      0.0                 0.0      0.0    0.0   \n",
       "16373      0.0        0.0      1.0                 0.0      1.0    0.0   \n",
       "11129      0.0        1.0      0.0                 0.0      0.0    1.0   \n",
       "75998      0.0        0.0      1.0                 0.0      1.0    0.0   \n",
       "25752      0.0        1.0      0.0                 0.0      1.0    0.0   \n",
       "\n",
       "       (Steady,)  (Up,)  \n",
       "34366        1.0    0.0  \n",
       "16373        0.0    0.0  \n",
       "11129        0.0    0.0  \n",
       "75998        0.0    0.0  \n",
       "25752        0.0    0.0  \n",
       "\n",
       "[5 rows x 22 columns]"
      ]
     },
     "execution_count": 88,
     "metadata": {},
     "output_type": "execute_result"
    }
   ],
   "source": [
    "df.head()"
   ]
  },
  {
   "cell_type": "code",
   "execution_count": 89,
   "id": "71655940",
   "metadata": {},
   "outputs": [
    {
     "data": {
      "text/plain": [
       "34366    0\n",
       "16373    0\n",
       "11129    1\n",
       "75998    0\n",
       "25752    0\n",
       "Name: diabetesMed, dtype: int64"
      ]
     },
     "execution_count": 89,
     "metadata": {},
     "output_type": "execute_result"
    }
   ],
   "source": [
    "df_labels.head()"
   ]
  },
  {
   "cell_type": "markdown",
   "id": "29358140",
   "metadata": {},
   "source": [
    "## Selecting a desired Model for Project"
   ]
  },
  {
   "cell_type": "code",
   "execution_count": 90,
   "id": "e16ce919",
   "metadata": {},
   "outputs": [],
   "source": [
    "from sklearn.linear_model import LogisticRegression"
   ]
  },
  {
   "cell_type": "code",
   "execution_count": 91,
   "id": "f77ed6eb",
   "metadata": {},
   "outputs": [],
   "source": [
    "model = LogisticRegression(tol = 0.1, solver = \"lbfgs\")"
   ]
  },
  {
   "cell_type": "markdown",
   "id": "2dd260d6",
   "metadata": {},
   "source": [
    "### Training the Logistic Regression Model with Training Data"
   ]
  },
  {
   "cell_type": "code",
   "execution_count": 92,
   "id": "5b1accd3",
   "metadata": {},
   "outputs": [
    {
     "name": "stderr",
     "output_type": "stream",
     "text": [
      "c:\\users\\vishaish\\appdata\\local\\programs\\python\\python39\\lib\\site-packages\\sklearn\\linear_model\\_logistic.py:763: ConvergenceWarning: lbfgs failed to converge (status=1):\n",
      "STOP: TOTAL NO. of ITERATIONS REACHED LIMIT.\n",
      "\n",
      "Increase the number of iterations (max_iter) or scale the data as shown in:\n",
      "    https://scikit-learn.org/stable/modules/preprocessing.html\n",
      "Please also refer to the documentation for alternative solver options:\n",
      "    https://scikit-learn.org/stable/modules/linear_model.html#logistic-regression\n",
      "  n_iter_i = _check_optimize_result(\n"
     ]
    },
    {
     "data": {
      "text/plain": [
       "LogisticRegression(tol=0.1)"
      ]
     },
     "execution_count": 92,
     "metadata": {},
     "output_type": "execute_result"
    }
   ],
   "source": [
    "model.fit(df,df_labels)"
   ]
  },
  {
   "cell_type": "markdown",
   "id": "2640d549",
   "metadata": {},
   "source": [
    "## Model Evaluation"
   ]
  },
  {
   "cell_type": "markdown",
   "id": "882e9538",
   "metadata": {},
   "source": [
    "### Accuracy Scores"
   ]
  },
  {
   "cell_type": "code",
   "execution_count": 93,
   "id": "069fc135",
   "metadata": {},
   "outputs": [],
   "source": [
    "from sklearn.metrics import accuracy_score\n",
    "df_prediction = model.predict(df)\n",
    "training_data_accuracy = accuracy_score(df_prediction,df_labels)"
   ]
  },
  {
   "cell_type": "code",
   "execution_count": 94,
   "id": "fdc2fa4d",
   "metadata": {
    "scrolled": true
   },
   "outputs": [
    {
     "name": "stdout",
     "output_type": "stream",
     "text": [
      "Accuracy on training data: 0.8440033410308063\n"
     ]
    }
   ],
   "source": [
    "print('Accuracy on training data:',training_data_accuracy)"
   ]
  },
  {
   "cell_type": "code",
   "execution_count": 95,
   "id": "f11bf19a",
   "metadata": {},
   "outputs": [
    {
     "name": "stderr",
     "output_type": "stream",
     "text": [
      "c:\\users\\vishaish\\appdata\\local\\programs\\python\\python39\\lib\\site-packages\\sklearn\\linear_model\\_logistic.py:763: ConvergenceWarning: lbfgs failed to converge (status=1):\n",
      "STOP: TOTAL NO. of ITERATIONS REACHED LIMIT.\n",
      "\n",
      "Increase the number of iterations (max_iter) or scale the data as shown in:\n",
      "    https://scikit-learn.org/stable/modules/preprocessing.html\n",
      "Please also refer to the documentation for alternative solver options:\n",
      "    https://scikit-learn.org/stable/modules/linear_model.html#logistic-regression\n",
      "  n_iter_i = _check_optimize_result(\n",
      "c:\\users\\vishaish\\appdata\\local\\programs\\python\\python39\\lib\\site-packages\\sklearn\\linear_model\\_logistic.py:763: ConvergenceWarning: lbfgs failed to converge (status=1):\n",
      "STOP: TOTAL NO. of ITERATIONS REACHED LIMIT.\n",
      "\n",
      "Increase the number of iterations (max_iter) or scale the data as shown in:\n",
      "    https://scikit-learn.org/stable/modules/preprocessing.html\n",
      "Please also refer to the documentation for alternative solver options:\n",
      "    https://scikit-learn.org/stable/modules/linear_model.html#logistic-regression\n",
      "  n_iter_i = _check_optimize_result(\n",
      "c:\\users\\vishaish\\appdata\\local\\programs\\python\\python39\\lib\\site-packages\\sklearn\\linear_model\\_logistic.py:763: ConvergenceWarning: lbfgs failed to converge (status=1):\n",
      "STOP: TOTAL NO. of ITERATIONS REACHED LIMIT.\n",
      "\n",
      "Increase the number of iterations (max_iter) or scale the data as shown in:\n",
      "    https://scikit-learn.org/stable/modules/preprocessing.html\n",
      "Please also refer to the documentation for alternative solver options:\n",
      "    https://scikit-learn.org/stable/modules/linear_model.html#logistic-regression\n",
      "  n_iter_i = _check_optimize_result(\n"
     ]
    }
   ],
   "source": [
    "from sklearn.model_selection import cross_val_predict\n",
    "df_labels_prediction = cross_val_predict(model,df,df_labels,cv=3)"
   ]
  },
  {
   "cell_type": "code",
   "execution_count": 96,
   "id": "cbcda201",
   "metadata": {},
   "outputs": [
    {
     "data": {
      "text/plain": [
       "array([0, 0, 1, ..., 0, 0, 0], dtype=int64)"
      ]
     },
     "execution_count": 96,
     "metadata": {},
     "output_type": "execute_result"
    }
   ],
   "source": [
    "df_labels_prediction"
   ]
  },
  {
   "cell_type": "code",
   "execution_count": 97,
   "id": "8eb1f097",
   "metadata": {},
   "outputs": [],
   "source": [
    "#Calculating confusion matrix"
   ]
  },
  {
   "cell_type": "code",
   "execution_count": 98,
   "id": "6280c83e",
   "metadata": {},
   "outputs": [],
   "source": [
    "from sklearn.metrics import confusion_matrix"
   ]
  },
  {
   "cell_type": "code",
   "execution_count": 99,
   "id": "7023ff08",
   "metadata": {},
   "outputs": [
    {
     "data": {
      "text/plain": [
       "array([[52387, 10262],\n",
       "       [ 2429, 16334]], dtype=int64)"
      ]
     },
     "execution_count": 99,
     "metadata": {},
     "output_type": "execute_result"
    }
   ],
   "source": [
    "confusion_matrix(df_labels,df_labels_prediction) #here true negative value=227339(not fraud) and true positive=265(fraud)\n",
    "#also it wrongly detect that 129(fraud) and 112 is not fraud"
   ]
  },
  {
   "cell_type": "code",
   "execution_count": 100,
   "id": "2e8a70cf",
   "metadata": {},
   "outputs": [],
   "source": [
    "#confusion matrix---tells us difference between actual and predicted values"
   ]
  },
  {
   "cell_type": "code",
   "execution_count": 101,
   "id": "b079fdac",
   "metadata": {},
   "outputs": [],
   "source": [
    "#confusion_matrix(df_labels,df_labels)----------this is the C.M. for perfect predictions"
   ]
  },
  {
   "cell_type": "code",
   "execution_count": 102,
   "id": "0d5ed79f",
   "metadata": {},
   "outputs": [],
   "source": [
    "# Precision and Recall"
   ]
  },
  {
   "cell_type": "code",
   "execution_count": 103,
   "id": "b5122c62",
   "metadata": {},
   "outputs": [],
   "source": [
    "from sklearn.metrics import precision_score , recall_score"
   ]
  },
  {
   "cell_type": "code",
   "execution_count": 104,
   "id": "5dc20006",
   "metadata": {},
   "outputs": [
    {
     "data": {
      "text/plain": [
       "0.6141525041359603"
      ]
     },
     "execution_count": 104,
     "metadata": {},
     "output_type": "execute_result"
    }
   ],
   "source": [
    "#This is my precision score\n",
    "precision_score(df_labels , df_labels_prediction)"
   ]
  },
  {
   "cell_type": "code",
   "execution_count": 105,
   "id": "143716ed",
   "metadata": {},
   "outputs": [
    {
     "data": {
      "text/plain": [
       "0.8705430901241805"
      ]
     },
     "execution_count": 105,
     "metadata": {},
     "output_type": "execute_result"
    }
   ],
   "source": [
    "#This is my recall score\n",
    "recall_score(df_labels , df_labels_prediction)"
   ]
  },
  {
   "cell_type": "code",
   "execution_count": 106,
   "id": "439180ce",
   "metadata": {},
   "outputs": [],
   "source": [
    "#F1 Score--------it is harmonic mean of Precision and Recall"
   ]
  },
  {
   "cell_type": "code",
   "execution_count": 107,
   "id": "e0275031",
   "metadata": {},
   "outputs": [],
   "source": [
    "from sklearn.metrics import f1_score"
   ]
  },
  {
   "cell_type": "code",
   "execution_count": 108,
   "id": "efcf16d3",
   "metadata": {},
   "outputs": [
    {
     "data": {
      "text/plain": [
       "0.7202098811702197"
      ]
     },
     "execution_count": 108,
     "metadata": {},
     "output_type": "execute_result"
    }
   ],
   "source": [
    "f1_score(df_labels , df_labels_prediction)"
   ]
  },
  {
   "cell_type": "code",
   "execution_count": 109,
   "id": "13f045da",
   "metadata": {},
   "outputs": [],
   "source": [
    "# check Classification Report"
   ]
  },
  {
   "cell_type": "code",
   "execution_count": 110,
   "id": "a4a66bc8",
   "metadata": {},
   "outputs": [
    {
     "name": "stdout",
     "output_type": "stream",
     "text": [
      "              precision    recall  f1-score   support\n",
      "\n",
      "           0       0.96      0.83      0.89     62649\n",
      "           1       0.61      0.87      0.72     18763\n",
      "\n",
      "    accuracy                           0.84     81412\n",
      "   macro avg       0.79      0.85      0.81     81412\n",
      "weighted avg       0.88      0.84      0.85     81412\n",
      "\n"
     ]
    }
   ],
   "source": [
    "from sklearn.metrics import classification_report\n",
    "print(classification_report(df_labels,df_prediction))"
   ]
  },
  {
   "cell_type": "code",
   "execution_count": 111,
   "id": "05c84887",
   "metadata": {},
   "outputs": [
    {
     "name": "stdout",
     "output_type": "stream",
     "text": [
      "age                     2.0\n",
      "weight                  0.0\n",
      "diag_1                584.0\n",
      "diag_2                414.0\n",
      "diag_3                250.0\n",
      "number_diagnoses        7.0\n",
      "max_glu_serum           0.0\n",
      "A1Cresult               0.0\n",
      "change                  0.0\n",
      "(AfricanAmerican,)      0.0\n",
      "(Asian,)                0.0\n",
      "(Caucasian,)            1.0\n",
      "(Hispanic,)             0.0\n",
      "(Other,)                0.0\n",
      "(null,)                 0.0\n",
      "(Female,)               1.0\n",
      "(Male,)                 0.0\n",
      "(Unknown/Invalid,)      0.0\n",
      "(Down,)                 0.0\n",
      "(No,)                   1.0\n",
      "(Steady,)               0.0\n",
      "(Up,)                   0.0\n",
      "Name: 11129, dtype: float64\n"
     ]
    }
   ],
   "source": [
    "print(df.iloc[2])"
   ]
  },
  {
   "cell_type": "code",
   "execution_count": 112,
   "id": "2c096c1b",
   "metadata": {},
   "outputs": [],
   "source": [
    "a = model.predict(([[2.0,0.0,584.0,414.0,250.0,7.0,0.0,0.0,0.0,0.0,0.0,1.0,0.0,0.0,0.0,1.0,0.0,0.0,0.0,1.0,.0,0.0]]))"
   ]
  },
  {
   "cell_type": "code",
   "execution_count": 113,
   "id": "e1a46b0f",
   "metadata": {},
   "outputs": [
    {
     "name": "stdout",
     "output_type": "stream",
     "text": [
      "n0t-diabetic\n"
     ]
    }
   ],
   "source": [
    "if a==0:\n",
    "    print(\"diabetic\")\n",
    "else:\n",
    "    print(\"n0t-diabetic\")"
   ]
  },
  {
   "cell_type": "markdown",
   "id": "0ebb639e",
   "metadata": {},
   "source": [
    "### Testing the Model on Test dataset"
   ]
  },
  {
   "cell_type": "code",
   "execution_count": 114,
   "id": "37d8af86",
   "metadata": {},
   "outputs": [],
   "source": [
    "X_test = strat_test_set.drop(\"diabetesMed\",axis=1)\n",
    "Y_test = strat_test_set[\"diabetesMed\"].copy()"
   ]
  },
  {
   "cell_type": "code",
   "execution_count": 115,
   "id": "e8b8090b",
   "metadata": {},
   "outputs": [
    {
     "data": {
      "text/html": [
       "<div>\n",
       "<style scoped>\n",
       "    .dataframe tbody tr th:only-of-type {\n",
       "        vertical-align: middle;\n",
       "    }\n",
       "\n",
       "    .dataframe tbody tr th {\n",
       "        vertical-align: top;\n",
       "    }\n",
       "\n",
       "    .dataframe thead th {\n",
       "        text-align: right;\n",
       "    }\n",
       "</style>\n",
       "<table border=\"1\" class=\"dataframe\">\n",
       "  <thead>\n",
       "    <tr style=\"text-align: right;\">\n",
       "      <th></th>\n",
       "      <th>age</th>\n",
       "      <th>weight</th>\n",
       "      <th>diag_1</th>\n",
       "      <th>diag_2</th>\n",
       "      <th>diag_3</th>\n",
       "      <th>number_diagnoses</th>\n",
       "      <th>max_glu_serum</th>\n",
       "      <th>A1Cresult</th>\n",
       "      <th>change</th>\n",
       "      <th>(AfricanAmerican,)</th>\n",
       "      <th>...</th>\n",
       "      <th>(Hispanic,)</th>\n",
       "      <th>(Other,)</th>\n",
       "      <th>(null,)</th>\n",
       "      <th>(Female,)</th>\n",
       "      <th>(Male,)</th>\n",
       "      <th>(Unknown/Invalid,)</th>\n",
       "      <th>(Down,)</th>\n",
       "      <th>(No,)</th>\n",
       "      <th>(Steady,)</th>\n",
       "      <th>(Up,)</th>\n",
       "    </tr>\n",
       "  </thead>\n",
       "  <tbody>\n",
       "    <tr>\n",
       "      <th>17917</th>\n",
       "      <td>0</td>\n",
       "      <td>0</td>\n",
       "      <td>277.0</td>\n",
       "      <td>483.00</td>\n",
       "      <td>466.0</td>\n",
       "      <td>5</td>\n",
       "      <td>0</td>\n",
       "      <td>1</td>\n",
       "      <td>0</td>\n",
       "      <td>0.0</td>\n",
       "      <td>...</td>\n",
       "      <td>0.0</td>\n",
       "      <td>0.0</td>\n",
       "      <td>0.0</td>\n",
       "      <td>0.0</td>\n",
       "      <td>1.0</td>\n",
       "      <td>0.0</td>\n",
       "      <td>0.0</td>\n",
       "      <td>0.0</td>\n",
       "      <td>1.0</td>\n",
       "      <td>0.0</td>\n",
       "    </tr>\n",
       "    <tr>\n",
       "      <th>76349</th>\n",
       "      <td>1</td>\n",
       "      <td>0</td>\n",
       "      <td>584.0</td>\n",
       "      <td>250.42</td>\n",
       "      <td>728.0</td>\n",
       "      <td>9</td>\n",
       "      <td>0</td>\n",
       "      <td>8</td>\n",
       "      <td>1</td>\n",
       "      <td>1.0</td>\n",
       "      <td>...</td>\n",
       "      <td>0.0</td>\n",
       "      <td>0.0</td>\n",
       "      <td>0.0</td>\n",
       "      <td>0.0</td>\n",
       "      <td>1.0</td>\n",
       "      <td>0.0</td>\n",
       "      <td>1.0</td>\n",
       "      <td>0.0</td>\n",
       "      <td>0.0</td>\n",
       "      <td>0.0</td>\n",
       "    </tr>\n",
       "    <tr>\n",
       "      <th>57447</th>\n",
       "      <td>2</td>\n",
       "      <td>0</td>\n",
       "      <td>410.0</td>\n",
       "      <td>428.00</td>\n",
       "      <td>403.0</td>\n",
       "      <td>9</td>\n",
       "      <td>0</td>\n",
       "      <td>0</td>\n",
       "      <td>1</td>\n",
       "      <td>0.0</td>\n",
       "      <td>...</td>\n",
       "      <td>0.0</td>\n",
       "      <td>0.0</td>\n",
       "      <td>0.0</td>\n",
       "      <td>0.0</td>\n",
       "      <td>1.0</td>\n",
       "      <td>0.0</td>\n",
       "      <td>0.0</td>\n",
       "      <td>0.0</td>\n",
       "      <td>1.0</td>\n",
       "      <td>0.0</td>\n",
       "    </tr>\n",
       "    <tr>\n",
       "      <th>2344</th>\n",
       "      <td>2</td>\n",
       "      <td>0</td>\n",
       "      <td>38.0</td>\n",
       "      <td>436.00</td>\n",
       "      <td>428.0</td>\n",
       "      <td>8</td>\n",
       "      <td>0</td>\n",
       "      <td>0</td>\n",
       "      <td>0</td>\n",
       "      <td>0.0</td>\n",
       "      <td>...</td>\n",
       "      <td>0.0</td>\n",
       "      <td>0.0</td>\n",
       "      <td>0.0</td>\n",
       "      <td>1.0</td>\n",
       "      <td>0.0</td>\n",
       "      <td>0.0</td>\n",
       "      <td>0.0</td>\n",
       "      <td>0.0</td>\n",
       "      <td>1.0</td>\n",
       "      <td>0.0</td>\n",
       "    </tr>\n",
       "    <tr>\n",
       "      <th>96081</th>\n",
       "      <td>2</td>\n",
       "      <td>0</td>\n",
       "      <td>570.0</td>\n",
       "      <td>584.00</td>\n",
       "      <td>276.0</td>\n",
       "      <td>9</td>\n",
       "      <td>0</td>\n",
       "      <td>0</td>\n",
       "      <td>0</td>\n",
       "      <td>0.0</td>\n",
       "      <td>...</td>\n",
       "      <td>0.0</td>\n",
       "      <td>0.0</td>\n",
       "      <td>0.0</td>\n",
       "      <td>0.0</td>\n",
       "      <td>1.0</td>\n",
       "      <td>0.0</td>\n",
       "      <td>0.0</td>\n",
       "      <td>1.0</td>\n",
       "      <td>0.0</td>\n",
       "      <td>0.0</td>\n",
       "    </tr>\n",
       "  </tbody>\n",
       "</table>\n",
       "<p>5 rows × 22 columns</p>\n",
       "</div>"
      ],
      "text/plain": [
       "       age  weight  diag_1  diag_2  diag_3  number_diagnoses  max_glu_serum  \\\n",
       "17917    0       0   277.0  483.00   466.0                 5              0   \n",
       "76349    1       0   584.0  250.42   728.0                 9              0   \n",
       "57447    2       0   410.0  428.00   403.0                 9              0   \n",
       "2344     2       0    38.0  436.00   428.0                 8              0   \n",
       "96081    2       0   570.0  584.00   276.0                 9              0   \n",
       "\n",
       "       A1Cresult  change  (AfricanAmerican,)  ...  (Hispanic,)  (Other,)  \\\n",
       "17917          1       0                 0.0  ...          0.0       0.0   \n",
       "76349          8       1                 1.0  ...          0.0       0.0   \n",
       "57447          0       1                 0.0  ...          0.0       0.0   \n",
       "2344           0       0                 0.0  ...          0.0       0.0   \n",
       "96081          0       0                 0.0  ...          0.0       0.0   \n",
       "\n",
       "       (null,)  (Female,)  (Male,)  (Unknown/Invalid,)  (Down,)  (No,)  \\\n",
       "17917      0.0        0.0      1.0                 0.0      0.0    0.0   \n",
       "76349      0.0        0.0      1.0                 0.0      1.0    0.0   \n",
       "57447      0.0        0.0      1.0                 0.0      0.0    0.0   \n",
       "2344       0.0        1.0      0.0                 0.0      0.0    0.0   \n",
       "96081      0.0        0.0      1.0                 0.0      0.0    1.0   \n",
       "\n",
       "       (Steady,)  (Up,)  \n",
       "17917        1.0    0.0  \n",
       "76349        0.0    0.0  \n",
       "57447        1.0    0.0  \n",
       "2344         1.0    0.0  \n",
       "96081        0.0    0.0  \n",
       "\n",
       "[5 rows x 22 columns]"
      ]
     },
     "execution_count": 115,
     "metadata": {},
     "output_type": "execute_result"
    }
   ],
   "source": [
    "X_test.head()"
   ]
  },
  {
   "cell_type": "code",
   "execution_count": 116,
   "id": "aa766c2a",
   "metadata": {},
   "outputs": [
    {
     "data": {
      "text/plain": [
       "17917    0\n",
       "76349    0\n",
       "57447    0\n",
       "2344     0\n",
       "96081    1\n",
       "Name: diabetesMed, dtype: int64"
      ]
     },
     "execution_count": 116,
     "metadata": {},
     "output_type": "execute_result"
    }
   ],
   "source": [
    "Y_test.head()"
   ]
  },
  {
   "cell_type": "markdown",
   "id": "86fb5d23",
   "metadata": {},
   "source": [
    "### Testing the Logistic Regression Model with Testing Data"
   ]
  },
  {
   "cell_type": "code",
   "execution_count": 117,
   "id": "5fca0aca",
   "metadata": {},
   "outputs": [
    {
     "name": "stderr",
     "output_type": "stream",
     "text": [
      "c:\\users\\vishaish\\appdata\\local\\programs\\python\\python39\\lib\\site-packages\\sklearn\\linear_model\\_logistic.py:763: ConvergenceWarning: lbfgs failed to converge (status=1):\n",
      "STOP: TOTAL NO. of ITERATIONS REACHED LIMIT.\n",
      "\n",
      "Increase the number of iterations (max_iter) or scale the data as shown in:\n",
      "    https://scikit-learn.org/stable/modules/preprocessing.html\n",
      "Please also refer to the documentation for alternative solver options:\n",
      "    https://scikit-learn.org/stable/modules/linear_model.html#logistic-regression\n",
      "  n_iter_i = _check_optimize_result(\n"
     ]
    },
    {
     "data": {
      "text/plain": [
       "LogisticRegression(tol=0.1)"
      ]
     },
     "execution_count": 117,
     "metadata": {},
     "output_type": "execute_result"
    }
   ],
   "source": [
    "from sklearn.linear_model import LogisticRegression\n",
    "model = LogisticRegression(tol = 0.1, solver = 'lbfgs')\n",
    "model.fit(X_test,Y_test)"
   ]
  },
  {
   "cell_type": "code",
   "execution_count": 118,
   "id": "c38fee15",
   "metadata": {},
   "outputs": [],
   "source": [
    "from sklearn.metrics import accuracy_score\n",
    "X_test_prediction = model.predict(X_test)\n",
    "testing_data_accuracy = accuracy_score(X_test_prediction,Y_test)"
   ]
  },
  {
   "cell_type": "code",
   "execution_count": 119,
   "id": "3582c92e",
   "metadata": {},
   "outputs": [
    {
     "name": "stdout",
     "output_type": "stream",
     "text": [
      "Accuracy on training data: 0.8455831777537585\n"
     ]
    }
   ],
   "source": [
    "print('Accuracy on training data:',testing_data_accuracy)"
   ]
  },
  {
   "cell_type": "code",
   "execution_count": 120,
   "id": "f1ff342c",
   "metadata": {},
   "outputs": [
    {
     "name": "stderr",
     "output_type": "stream",
     "text": [
      "c:\\users\\vishaish\\appdata\\local\\programs\\python\\python39\\lib\\site-packages\\sklearn\\linear_model\\_logistic.py:763: ConvergenceWarning: lbfgs failed to converge (status=1):\n",
      "STOP: TOTAL NO. of ITERATIONS REACHED LIMIT.\n",
      "\n",
      "Increase the number of iterations (max_iter) or scale the data as shown in:\n",
      "    https://scikit-learn.org/stable/modules/preprocessing.html\n",
      "Please also refer to the documentation for alternative solver options:\n",
      "    https://scikit-learn.org/stable/modules/linear_model.html#logistic-regression\n",
      "  n_iter_i = _check_optimize_result(\n",
      "c:\\users\\vishaish\\appdata\\local\\programs\\python\\python39\\lib\\site-packages\\sklearn\\linear_model\\_logistic.py:763: ConvergenceWarning: lbfgs failed to converge (status=1):\n",
      "STOP: TOTAL NO. of ITERATIONS REACHED LIMIT.\n",
      "\n",
      "Increase the number of iterations (max_iter) or scale the data as shown in:\n",
      "    https://scikit-learn.org/stable/modules/preprocessing.html\n",
      "Please also refer to the documentation for alternative solver options:\n",
      "    https://scikit-learn.org/stable/modules/linear_model.html#logistic-regression\n",
      "  n_iter_i = _check_optimize_result(\n",
      "c:\\users\\vishaish\\appdata\\local\\programs\\python\\python39\\lib\\site-packages\\sklearn\\linear_model\\_logistic.py:763: ConvergenceWarning: lbfgs failed to converge (status=1):\n",
      "STOP: TOTAL NO. of ITERATIONS REACHED LIMIT.\n",
      "\n",
      "Increase the number of iterations (max_iter) or scale the data as shown in:\n",
      "    https://scikit-learn.org/stable/modules/preprocessing.html\n",
      "Please also refer to the documentation for alternative solver options:\n",
      "    https://scikit-learn.org/stable/modules/linear_model.html#logistic-regression\n",
      "  n_iter_i = _check_optimize_result(\n"
     ]
    }
   ],
   "source": [
    "from sklearn.model_selection import cross_val_predict\n",
    "Y_test_prediction = cross_val_predict(model,X_test,Y_test,cv=3)"
   ]
  },
  {
   "cell_type": "code",
   "execution_count": 121,
   "id": "7cbe9cf9",
   "metadata": {},
   "outputs": [
    {
     "data": {
      "text/plain": [
       "array([0, 0, 0, ..., 1, 0, 0], dtype=int64)"
      ]
     },
     "execution_count": 121,
     "metadata": {},
     "output_type": "execute_result"
    }
   ],
   "source": [
    "Y_test_prediction"
   ]
  },
  {
   "cell_type": "code",
   "execution_count": 122,
   "id": "1d586ae7",
   "metadata": {},
   "outputs": [],
   "source": [
    "# confusion matrix"
   ]
  },
  {
   "cell_type": "code",
   "execution_count": 123,
   "id": "5d886040",
   "metadata": {},
   "outputs": [],
   "source": [
    "from sklearn.metrics import confusion_matrix"
   ]
  },
  {
   "cell_type": "code",
   "execution_count": 124,
   "id": "82591506",
   "metadata": {},
   "outputs": [
    {
     "data": {
      "text/plain": [
       "array([[13020,  2694],\n",
       "       [  460,  4180]], dtype=int64)"
      ]
     },
     "execution_count": 124,
     "metadata": {},
     "output_type": "execute_result"
    }
   ],
   "source": [
    "confusion_matrix(Y_test,Y_test_prediction)"
   ]
  },
  {
   "cell_type": "code",
   "execution_count": 125,
   "id": "6655a0f2",
   "metadata": {},
   "outputs": [],
   "source": [
    "from sklearn.metrics import precision_score , recall_score"
   ]
  },
  {
   "cell_type": "code",
   "execution_count": 126,
   "id": "bad84789",
   "metadata": {},
   "outputs": [
    {
     "data": {
      "text/plain": [
       "0.6080884492289788"
      ]
     },
     "execution_count": 126,
     "metadata": {},
     "output_type": "execute_result"
    }
   ],
   "source": [
    "precision_score(Y_test,Y_test_prediction)"
   ]
  },
  {
   "cell_type": "code",
   "execution_count": 127,
   "id": "167454db",
   "metadata": {},
   "outputs": [
    {
     "data": {
      "text/plain": [
       "0.9008620689655172"
      ]
     },
     "execution_count": 127,
     "metadata": {},
     "output_type": "execute_result"
    }
   ],
   "source": [
    "recall_score(Y_test,Y_test_prediction)"
   ]
  },
  {
   "cell_type": "code",
   "execution_count": 128,
   "id": "4ce2975c",
   "metadata": {},
   "outputs": [],
   "source": [
    "from sklearn.metrics import f1_score"
   ]
  },
  {
   "cell_type": "code",
   "execution_count": 129,
   "id": "7c890931",
   "metadata": {},
   "outputs": [
    {
     "data": {
      "text/plain": [
       "0.726072607260726"
      ]
     },
     "execution_count": 129,
     "metadata": {},
     "output_type": "execute_result"
    }
   ],
   "source": [
    "f1_score(Y_test,Y_test_prediction)"
   ]
  },
  {
   "cell_type": "code",
   "execution_count": 130,
   "id": "716e7294",
   "metadata": {},
   "outputs": [
    {
     "name": "stdout",
     "output_type": "stream",
     "text": [
      "              precision    recall  f1-score   support\n",
      "\n",
      "           0       0.96      0.83      0.89     62649\n",
      "           1       0.61      0.87      0.72     18763\n",
      "\n",
      "    accuracy                           0.84     81412\n",
      "   macro avg       0.79      0.85      0.81     81412\n",
      "weighted avg       0.88      0.84      0.85     81412\n",
      "\n"
     ]
    }
   ],
   "source": [
    "#check classification report\n",
    "from sklearn.metrics import classification_report\n",
    "print(classification_report(df_labels,df_prediction))"
   ]
  },
  {
   "cell_type": "code",
   "execution_count": 131,
   "id": "b1190551",
   "metadata": {},
   "outputs": [],
   "source": [
    "#b= model.predict(([[]]))"
   ]
  },
  {
   "cell_type": "code",
   "execution_count": 132,
   "id": "c1a35254",
   "metadata": {},
   "outputs": [],
   "source": [
    "#if b==0:\n",
    "   # print(\"not-fraud\")\n",
    "#else:\n",
    "    #print(\"fraud\")"
   ]
  },
  {
   "cell_type": "code",
   "execution_count": null,
   "id": "f974bb6c",
   "metadata": {},
   "outputs": [],
   "source": []
  }
 ],
 "metadata": {
  "kernelspec": {
   "display_name": "Python 3",
   "language": "python",
   "name": "python3"
  },
  "language_info": {
   "codemirror_mode": {
    "name": "ipython",
    "version": 3
   },
   "file_extension": ".py",
   "mimetype": "text/x-python",
   "name": "python",
   "nbconvert_exporter": "python",
   "pygments_lexer": "ipython3",
   "version": "3.9.5"
  }
 },
 "nbformat": 4,
 "nbformat_minor": 5
}
